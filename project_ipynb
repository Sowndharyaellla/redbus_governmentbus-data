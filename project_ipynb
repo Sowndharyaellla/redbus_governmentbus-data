import time
import pandas as pd
import streamlit as st
from selenium import webdriver
from selenium.webdriver.common.by import By
from selenium.common.exceptions import NoSuchElementException
from selenium.common.exceptions import TimeoutException
from selenium.webdriver.support.ui import WebDriverWait
from selenium.webdriver.support import expected_conditions as EC
driver = webdriver.Chrome()  # Optional argument, if not specified will search path.\n",
driver.get('https://www.redbus.in/')
time.sleep(5)
driver.maximize_window()
driver.execute_script("window.scrollBy(0, window.innerHeight)")
view_all = driver.find_element(By.CSS_SELECTOR, 'a[href="https://www.redbus.in/online-booking/rtc-directory"]')
view_all.click()
driver.get("https://www.redbus.in/online-booking/rtc-directory")
driver.maximize_window()
kerala = driver.find_element(By.CSS_SELECTOR, 'a[href="/online-booking/ksrtc-kerala"]')
kerala.click()
time.sleep(3)
driver.execute_script("window.scrollBy(0, window.innerHeight)")
driver.execute_script("window.scrollBy(0, window.innerHeight)")
driver.execute_script("window.scrollBy(0, window.innerHeight)")
kerala_route_names = []
kerala_route_links = []
time.sleep(3)
def scrape_data():
  route_names = driver.find_elements(By.CLASS_NAME, "route")
  for route_name in route_names:
      kerala_route_names.append(route_name.text)

  route_links = driver.find_elements(By.CLASS_NAME, "route")
  hrefs = [route_link.get_attribute('href') for route_link in route_links]
  for href in hrefs:
      kerala_route_links.append(href)

page_tabs = driver.find_elements(By.CLASS_NAME, "DC_117_pageTabs")
for i in range(len(page_tabs)):
    if i > 0:
           page_tabs = driver.find_elements(By.CLASS_NAME, "DC_117_pageTabs")[i]
           driver.execute_script("arguments[0].click();", page_tabs) 
           time.sleep(4)
    scrape_data()
time.sleep(3)

df = pd.DataFrame(columns=['state_name' ,'route_name', 'route_link','bus_name', 'bus_type', 'departing', 
                           'duration', 'reaching', 'rating', 'price', 'availability'])
df_links= []
trial = []
seenlink = []
route_name = []
route_link = []
dict = {} 
count = 0
for link in kerala_route_links:
    driver.get(link)
    driver.maximize_window()
    if link not in seenlink:
        seenlink.append(link)
        try:
           wait = WebDriverWait(driver,3)
           wait_button = wait.until(EC.presence_of_element_located((By.CLASS_NAME, "button")))
           wait_button = wait.until(EC.element_to_be_clickable((By.ID, "result-section" )))
           driver.execute_script("arguments[0].click();", wait_button)
        except NoSuchElementException:
           pass
        except TimeoutException:
           pass    
    
        for t in range(22):     #scrolling 22 times so that whole website loads
           driver.execute_script("window.scrollBy(0, 650);")
           time.sleep(0.5)
        names = driver.find_elements(By.CLASS_NAME,"travels")
        types = driver.find_elements(By.CLASS_NAME,"bus-type")
        depart_timings = driver.find_elements(By.CLASS_NAME,"dp-time")
        travel_durations = driver.find_elements(By.CLASS_NAME,"dur")
        arrivals = driver.find_elements(By.CLASS_NAME,"bp-time")
        star_ratings = driver.find_elements(By.CLASS_NAME,"column-six")
        fares = driver.find_elements(By.CLASS_NAME,"fare")
        seats_available = driver.find_elements(By.CLASS_NAME,"seat-left")
        bus_name = []
        bus_type = []
        departing = []
        duration = []
        reaching = []
        rating = []
        price = []
        availability = []

        list(bus_name.append(i.text) for i in names)
        list(bus_type.append(i.text) for i in types)
        list(departing.append(i.text) for i in depart_timings)
        list(duration.append(i.text) for i in travel_durations)
        list(reaching.append(i.text) for i in arrivals)
        list(rating.append(i.text[:3]) for i in star_ratings)
        for fare in fares:
            if (fare.text).isdigit():
                price.append(fare.text)
            else:
                price.append((fare.text).replace('INR','').strip())
        list(availability.append(i.text) for i in seats_available)
        time.sleep(3)
        #remove duplicates on the names 
        print("range of bus_name for link:",range(len(bus_name)))
        print("link:",link)
        for i in range(len(bus_name)):
            dict={'state_name': "kerala",'route_name':kerala_route_names[count], 'route_link':link, 'bus_name':bus_name[i], 'bus_type':bus_type[i], 'departing':departing[i], 
                           'duration':duration[i], 'reaching':reaching[i], 'rating':rating[i], 'price':price[i], 'availability':availability[i]}
            df_links.append(dict)
    else:
         print("already seen")
    count = count +1
    

print("count =:",count)
#for i in range(len(df_links)):
   #print("value of i:",i)
   #print("Total Routes on each links",df_links[i])

df1=pd.DataFrame(df_links)
df=pd.concat([df,df1],ignore_index=True)

df.to_csv('kerala.csv', index=False)

ANDHRA:
import time
import pandas as pd
import streamlit as st
from selenium import webdriver
from selenium.webdriver.common.by import By
from selenium.common.exceptions import NoSuchElementException
from selenium.common.exceptions import TimeoutException
from selenium.webdriver.support.ui import WebDriverWait
from selenium.webdriver.support import expected_conditions as EC
driver = webdriver.Chrome()  # Optional argument, if not specified will search path.\n",
driver.get('https://www.redbus.in/')
time.sleep(5)
driver.maximize_window()
driver.execute_script("window.scrollBy(0, 650)")
view_all = driver.find_element(By.CSS_SELECTOR, 'a[href="https://www.redbus.in/online-booking/rtc-directory"]')
view_all.click()
driver.get("https://www.redbus.in/online-booking/apsrtc/?utm_source=rtchometile")
driver.maximize_window()
#APSRTC = driver.find_element(By.CSS_SELECTOR, "e")
#APSRTC.click()
time.sleep(3)
driver.execute_script("window.scrollBy(0, window.innerHeight)")
driver.execute_script("window.scrollBy(0, window.innerHeight)")
driver.execute_script("window.scrollBy(0, window.innerHeight)")
andhra_route_names = []
andhra_route_links = []

def scrape_data():
  route_names = driver.find_elements(By.CLASS_NAME, "route")
  for route_name in route_names:
      andhra_route_names.append(route_name.text)

  route_links = driver.find_elements(By.CLASS_NAME, "route")
  hrefs = [route_link.get_attribute('href') for route_link in route_links]
  for href in hrefs:
      andhra_route_links.append(href)

page_tabs = driver.find_elements(By.CLASS_NAME, "DC_117_pageTabs")
for i in range(len(page_tabs)):
    if i > 0:
           page_tabs = driver.find_elements(By.CLASS_NAME, "DC_117_pageTabs")[i]
           driver.execute_script("arguments[0].click();", page_tabs) 
           time.sleep(4)
    scrape_data()
print(andhra_route_names)
df1 = pd.DataFrame()
df_links= []
trial = []
seenlink = []
route_name = []
route_link = []
dict = {} 
count = 0
for link in andhra_route_links:
    driver.get(link)
    driver.maximize_window()
    if link not in seenlink:
        seenlink.append(link)
        try:
           wait = WebDriverWait(driver,3)
           wait_button = wait.until(EC.presence_of_element_located((By.CLASS_NAME, "button")))
           wait_button = wait.until(EC.element_to_be_clickable((By.ID, "result-section" )))
           driver.execute_script("arguments[0].click();", wait_button)
        except NoSuchElementException:
           pass
        except TimeoutException:
           pass    
    
        for t in range(22):     #scrolling 22 times so that whole website loads
           driver.execute_script("window.scrollBy(0, 650);")
           time.sleep(0.5)
        names = driver.find_elements(By.CLASS_NAME,"travels")
        types = driver.find_elements(By.CLASS_NAME,"bus-type")
        depart_timings = driver.find_elements(By.CLASS_NAME,"dp-time")
        travel_durations = driver.find_elements(By.CLASS_NAME,"dur")
        arrivals = driver.find_elements(By.CLASS_NAME,"bp-time")
        star_ratings = driver.find_elements(By.CLASS_NAME,"column-six")
        fares = driver.find_elements(By.CLASS_NAME,"fare")
        seats_available = driver.find_elements(By.CLASS_NAME,"seat-left")
        bus_name = []
        bus_type = []
        departing = []
        duration = []
        reaching = []
        rating = []
        price = []
        availability = []

        list(bus_name.append(i.text) for i in names)
        list(bus_type.append(i.text) for i in types)
        list(departing.append(i.text) for i in depart_timings)
        list(duration.append(i.text) for i in travel_durations)
        list(reaching.append(i.text) for i in arrivals)
        list(rating.append(i.text[:3]) for i in star_ratings)
        for fare in fares:
            if (fare.text).isdigit():
                price.append(fare.text)
            else:
                price.append((fare.text).replace('INR','').strip())
        list(availability.append(i.text) for i in seats_available)

        #remove duplicates on the names 
        print("range of bus_name for link:",range(len(bus_name)))
        print("link:",link)
        for i in range(len(bus_name)):
            dict={'state_name':"Andhra(APSRTC)",'route_name':andhra_route_names[count], 'route_link':link, 'bus_name':bus_name[i], 'bus_type':bus_type[i], 'departing':departing[i], 
                           'duration':duration[i], 'reaching':reaching[i], 'rating':rating[i], 'price':price[i], 'availability':availability[i]}
            df_links.append(dict)
    else:
         print("already seen")
    count = count +1

print("count =:",count)
for i in range(len(df_links)):
   print("value of i:",i)
   print("Total Routes on each links",df_links[i])

df1=pd.DataFrame(df_links)
df=pd.concat([df,df1],ignore_index=True)

df.to_csv('df_andhra.csv', index=False)
print(df)
Kadamba:

import time
import pandas as pd
import streamlit as st
from selenium import webdriver
from selenium.webdriver.common.by import By
from selenium.common.exceptions import NoSuchElementException
from selenium.common.exceptions import TimeoutException
from selenium.webdriver.support.ui import WebDriverWait
from selenium.webdriver.support import expected_conditions as EC
driver = webdriver.Chrome()  # Optional argument, if not specified will search path.\n",
driver.get('https://www.redbus.in/')
time.sleep(5)
driver.maximize_window()
driver.execute_script("window.scrollBy(0, 650)")
view_all = driver.find_element(By.CSS_SELECTOR, 'a[href="https://www.redbus.in/online-booking/rtc-directory"]')
view_all.click()
driver.get("https://www.redbus.in/online-booking/ktcl/?utm_source=rtchometile")
driver.maximize_window()
#ktcl = driver.find_element(By.CLASS_NAME, 'a[href="/online-booking/ktcl"]')
#ktcl.click()
time.sleep(3)
driver.execute_script("window.scrollBy(0, window.innerHeight)")
driver.execute_script("window.scrollBy(0, window.innerHeight)")
driver.execute_script("window.scrollBy(0, window.innerHeight)")
kadamba_route_names = []
kadamba_route_links = []

def scrape_data():
  route_names = driver.find_elements(By.CLASS_NAME, "route")
  for route_name in route_names:
      kadamba_route_names.append(route_name.text)

  route_links = driver.find_elements(By.CLASS_NAME, "route")
  hrefs = [route_link.get_attribute('href') for route_link in route_links]
  for href in hrefs:
      kadamba_route_links.append(href)

page_tabs = driver.find_elements(By.CLASS_NAME, "DC_117_pageTabs")
for i in range(len(page_tabs)):
    if i > 0:
           page_tabs = driver.find_elements(By.CLASS_NAME, "DC_117_pageTabs")[i]
           driver.execute_script("arguments[0].click();", page_tabs) 
           time.sleep(4)
    scrape_data()



df_links= []
trial = []
seenlink = []
route_name = []
route_link = []
dict = {}
df1=pd.DataFrame() 
count = 0
for link in kadamba_route_links:
    driver.get(link)
    driver.maximize_window()
    if link not in seenlink:
        seenlink.append(link)
        try:
           wait = WebDriverWait(driver,3)
           wait_button = wait.until(EC.presence_of_element_located((By.CLASS_NAME, "button")))
           wait_button = wait.until(EC.element_to_be_clickable((By.CLASS_NAME, "button")))
           driver.execute_script("arguments[0].click();", wait_button)
        except NoSuchElementException:
           pass
        except TimeoutException:
           pass    
    
        for t in range(22):     #scrolling 22 times so that whole website loads
           driver.execute_script("window.scrollBy(0, 650);")
           time.sleep(0.5)
        names = driver.find_elements(By.CLASS_NAME,"travels")
        types = driver.find_elements(By.CLASS_NAME,"bus-type")
        depart_timings = driver.find_elements(By.CLASS_NAME,"dp-time")
        travel_durations = driver.find_elements(By.CLASS_NAME,"dur")
        arrivals = driver.find_elements(By.CLASS_NAME,"bp-time")
        star_ratings = driver.find_elements(By.CLASS_NAME,"column-six")
        fares = driver.find_elements(By.CLASS_NAME,"fare")
        seats_available = driver.find_elements(By.CLASS_NAME,"seat-left")
        bus_name = []
        bus_type = []
        departing = []
        duration = []
        reaching = []
        rating = []
        price = []
        availability = []

        list(bus_name.append(i.text) for i in names)
        list(bus_type.append(i.text) for i in types)
        list(departing.append(i.text) for i in depart_timings)
        list(duration.append(i.text) for i in travel_durations)
        list(reaching.append(i.text) for i in arrivals)
        list(rating.append(i.text[:3]) for i in star_ratings)
        for fare in fares:
            if (fare.text).isdigit():
                price.append(fare.text)
            else:
                price.append((fare.text).replace('INR','').strip())
        list(availability.append(i.text) for i in seats_available)
        time.sleep(3)
        #remove duplicates on the names 
        print("range of bus_name for link:",range(len(bus_name)))
        print("link:",link)
        for i in range(len(bus_name)):
            dict={'state_name':"Kadamba(KTCL)",'route_name':kadamba_route_names[count], 'route_link':link, 'bus_name':bus_name[i], 'bus_type':bus_type[i], 'departing':departing[i], 
                           'duration':duration[i], 'reaching':reaching[i], 'rating':rating[i], 'price':price[i], 'availability':availability[i]}
            df_links.append(dict)
    else:
         print("already seen")
    count = count +1

print("count =:",count)
for i in range(len(df_links)):
   print("value of i:",i)
   print("Total Routes on each links",df_links[i])

df1=pd.DataFrame(df_links)
df=pd.concat([df,df1],ignore_index=True)

df.to_csv('Kadamba.csv', index=False)
print(df)

BIHAR:
import time
import pandas as pd
import streamlit as st
from selenium import webdriver
from selenium.webdriver.common.by import By
from selenium.common.exceptions import NoSuchElementException
from selenium.common.exceptions import TimeoutException
from selenium.webdriver.support.ui import WebDriverWait
from selenium.webdriver.support import expected_conditions as EC
driver = webdriver.Chrome()  # Optional argument, if not specified will search path.\n",
driver.get('https://www.redbus.in/')
time.sleep(5)
driver.maximize_window()
driver.execute_script("window.scrollBy(0, 650)")
view_all = driver.find_element(By.CSS_SELECTOR, 'a[href="https://www.redbus.in/online-booking/rtc-directory"]')
view_all.click()
driver.get("https://www.redbus.in/online-booking/bihar-state-road-transport-corporation-bsrtc/?utm_source=rtchometile")
driver.maximize_window()
time.sleep(3)
driver.execute_script("window.scrollBy(0, window.innerHeight)")
driver.execute_script("window.scrollBy(0, window.innerHeight)")
driver.execute_script("window.scrollBy(0, window.innerHeight)")
bihar_route_names = []
bihar_route_links = []

def scrape_data():
  route_names = driver.find_elements(By.CLASS_NAME, "route")
  for route_name in route_names:
      bihar_route_names.append(route_name.text)

  route_links = driver.find_elements(By.CLASS_NAME, "route")
  hrefs = [route_link.get_attribute('href') for route_link in route_links]
  for href in hrefs:
      bihar_route_links.append(href)

page_tabs = driver.find_elements(By.CLASS_NAME, "DC_117_pageTabs")
for i in range(len(page_tabs)):
    if i > 0:
           page_tabs = driver.find_elements(By.CLASS_NAME, "DC_117_pageTabs")[i]
           driver.execute_script("arguments[0].click();", page_tabs) 
           time.sleep(4)
    scrape_data()

df1=pd.DataFrame()
df_links= []
trial = []
seenlink = []
route_name = []
route_link = []
dict = {} 
count = 0
for link in bihar_route_links:
    driver.get(link)
    driver.maximize_window()
    if link not in seenlink:
        seenlink.append(link)
        try:
           wait = WebDriverWait(driver,3)
           wait_button = wait.until(EC.presence_of_element_located((By.CLASS_NAME, "button")))
           wait_button = wait.until(EC.element_to_be_clickable((By.ID, "result-section" )))
           driver.execute_script("arguments[0].click();", wait_button)
        except NoSuchElementException:
           pass
        except TimeoutException:
           pass    
    
        for t in range(22):     #scrolling 22 times so that whole website loads
           driver.execute_script("window.scrollBy(0, 650);")
           time.sleep(0.5)
        names = driver.find_elements(By.CLASS_NAME,"travels")
        types = driver.find_elements(By.CLASS_NAME,"bus-type")
        depart_timings = driver.find_elements(By.CLASS_NAME,"dp-time")
        travel_durations = driver.find_elements(By.CLASS_NAME,"dur")
        arrivals = driver.find_elements(By.CLASS_NAME,"bp-time")
        star_ratings = driver.find_elements(By.CLASS_NAME,"column-six")
        fares = driver.find_elements(By.CLASS_NAME,"fare")
        seats_available = driver.find_elements(By.CLASS_NAME,"seat-left")
        bus_name = []
        bus_type = []
        departing = []
        duration = []
        reaching = []
        rating = []
        price = []
        availability = []

        list(bus_name.append(i.text) for i in names)
        list(bus_type.append(i.text) for i in types)
        list(departing.append(i.text) for i in depart_timings)
        list(duration.append(i.text) for i in travel_durations)
        list(reaching.append(i.text) for i in arrivals)
        list(rating.append(i.text[:3]) for i in star_ratings)
        for fare in fares:
            if (fare.text).isdigit():
                price.append(fare.text)
            else:
                price.append((fare.text).replace('INR','').strip())
        list(availability.append(i.text) for i in seats_available)
        time.sleep(3)
        #remove duplicates on the names 
        #print("range of bus_name for link:",range(len(bus_name)))
        #print("link:",link)
        for i in range(len(bus_name)):
            dict={'state_name':"Bihar(BSRTC)",'route_name':bihar_route_names[count], 'route_link':link, 'bus_name':bus_name[i], 'bus_type':bus_type[i], 'departing':departing[i], 
                           'duration':duration[i], 'reaching':reaching[i], 'rating':rating[i], 'price':price[i], 'availability':availability[i]}
            df_links.append(dict)
    else:
         print("already seen")
    count = count +1

print("count =:",count)
for i in range(len(df_links)):
   print("value of i:",i)
   print("Total Routes on each links",df_links[i])

df1=pd.DataFrame(df_links)
df=pd.concat([df,df1],ignore_index=True)

df.to_csv('Bihar.csv', index=False)
print(df)
import time
import pandas as pd
import streamlit as st
from selenium import webdriver
from selenium.webdriver.common.by import By
from selenium.common.exceptions import NoSuchElementException
from selenium.common.exceptions import TimeoutException
from selenium.webdriver.support.ui import WebDriverWait
from selenium.webdriver.support import expected_conditions as EC
driver = webdriver.Chrome()  # Optional argument, if not specified will search path.\n",
driver.get('https://www.redbus.in/')
time.sleep(5)
driver.maximize_window()
driver.execute_script("window.scrollBy(0, 650)")
view_all = driver.find_element(By.CSS_SELECTOR, 'a[href="https://www.redbus.in/online-booking/rtc-directory"]')
view_all.click()
driver.get("https://www.redbus.in/online-booking/rsrtc/?utm_source=rtchometile")
driver.maximize_window()
#RSRTC = driver.find_element(By.CLASS_NAME, 'a[href="/online-booking/rsrtc"]')
#RSRTC.click()
time.sleep(3)
driver.execute_script("window.scrollBy(0, window.innerHeight)")
driver.execute_script("window.scrollBy(0, window.innerHeight)")
driver.execute_script("window.scrollBy(0, window.innerHeight)")
rajasthan_route_names = []
rajasthan_route_links = []

def scrape_data():
  route_names = driver.find_elements(By.CLASS_NAME, "route")
  for route_name in route_names:
      rajasthan_route_names.append(route_name.text)

  route_links = driver.find_elements(By.CLASS_NAME, "route")
  hrefs = [route_link.get_attribute('href') for route_link in route_links]
  for href in hrefs:
      rajasthan_route_links.append(href)

page_tabs = driver.find_elements(By.CLASS_NAME, "DC_117_pageTabs")
for i in range(len(page_tabs)):
    if i > 0:
           page_tabs = driver.find_elements(By.CLASS_NAME, "DC_117_pageTabs")[i]
           driver.execute_script("arguments[0].click();", page_tabs) 
           time.sleep(4)
    scrape_data()

    
df1=pd.DataFrame()
df_links= []
trial = []
seenlink = []
route_name = []
route_link = []
dict = {} 
count = 0
for link in rajasthan_route_links:
    driver.get(link)
    driver.maximize_window()
    if link not in seenlink:
        seenlink.append(link)
        try:
           wait = WebDriverWait(driver,3)
           wait_button = wait.until(EC.presence_of_element_located((By.CLASS_NAME, "button")))
           wait_button = wait.until(EC.element_to_be_clickable((By.ID, "result-section")))
           driver.execute_script("arguments[0].click();", wait_button)
           
        except NoSuchElementException:
           pass
        except TimeoutException:
           pass    
    
        for t in range(22):     #scrolling 22 times so that whole website loads
           driver.execute_script("window.scrollBy(0, 650);")
           time.sleep(0.5)
        names = driver.find_elements(By.CLASS_NAME,"travels")
        types = driver.find_elements(By.CLASS_NAME,"bus-type")
        depart_timings = driver.find_elements(By.CLASS_NAME,"dp-time")
        travel_durations = driver.find_elements(By.CLASS_NAME,"dur")
        arrivals = driver.find_elements(By.CLASS_NAME,"bp-time")
        star_ratings = driver.find_elements(By.CLASS_NAME,"column-six")
        fares = driver.find_elements(By.CLASS_NAME,"fare")
        seats_available = driver.find_elements(By.CLASS_NAME,"seat-left")
        bus_name = []
        bus_type = []
        departing = []
        duration = []
        reaching = []
        rating = []
        price = []
        availability = []

        list(bus_name.append(i.text) for i in names)
        list(bus_type.append(i.text) for i in types)
        list(departing.append(i.text) for i in depart_timings)
        list(duration.append(i.text) for i in travel_durations)
        list(reaching.append(i.text) for i in arrivals)
        list(rating.append(i.text[:3]) for i in star_ratings)
        for fare in fares:
            if (fare.text).isdigit():
                price.append(fare.text)
            else:
                price.append((fare.text).replace('INR','').strip())
        list(availability.append(i.text) for i in seats_available)
        time.sleep(3)
        #remove duplicates on the names 
        #print("range of bus_name for link:",range(len(bus_name)))
        #print("link:",link)
        for i in range(len(bus_name)):
            dict={'state_name':"Rajasthan(RSRTC)",'route_name':rajasthan_route_names[count], 'route_link':link, 'bus_name':bus_name[i], 'bus_type':bus_type[i], 'departing':departing[i], 
                           'duration':duration[i], 'reaching':reaching[i], 'rating':rating[i], 'price':price[i], 'availability':availability[i]}
            df_links.append(dict)
    else:
         print("already seen")
    count = count +1

print("count =:",count)
for i in range(len(df_links)):
   print("value of i:",i)
   print("Total Routes on each links",df_links[i])

df1=pd.DataFrame(df_links)
df=pd.concat([df,df1],ignore_index=True)

df.to_csv('Rajasthan.csv', index=False)
print(df)

SOUTHBENGAL:
import time
import pandas as pd
import streamlit as st
from selenium import webdriver
from selenium.webdriver.common.by import By
from selenium.common.exceptions import NoSuchElementException
from selenium.common.exceptions import TimeoutException
from selenium.webdriver.support.ui import WebDriverWait
from selenium.webdriver.support import expected_conditions as EC
driver = webdriver.Chrome()  # Optional argument, if not specified will search path.\n",
driver.get('https://www.redbus.in/')
time.sleep(5)
driver.maximize_window()
driver.execute_script("window.scrollBy(0, 650)")
view_all = driver.find_element(By.CSS_SELECTOR, 'a[href="https://www.redbus.in/online-booking/rtc-directory"]')
view_all.click()
driver.get("https://www.redbus.in/online-booking/south-bengal-state-transport-corporation-sbstc/?utm_source=rtchometile")
driver.maximize_window()
time.sleep(3)
driver.execute_script("window.scrollBy(0, window.innerHeight)")
driver.execute_script("window.scrollBy(0, window.innerHeight)")
driver.execute_script("window.scrollBy(0, window.innerHeight)")
southbengal_route_names = []
southbengal_route_links = []

def scrape_data():
  route_names = driver.find_elements(By.CLASS_NAME, "route")
  for route_name in route_names:
      southbengal_route_names.append(route_name.text)

  route_links = driver.find_elements(By.CLASS_NAME, "route")
  hrefs = [route_link.get_attribute('href') for route_link in route_links]
  for href in hrefs:
      southbengal_route_links.append(href)

page_tabs = driver.find_elements(By.CLASS_NAME, "DC_117_pageTabs")
for i in range(len(page_tabs)):
    if i > 0:
           page_tabs = driver.find_elements(By.CLASS_NAME, "DC_117_pageTabs")[i]
           driver.execute_script("arguments[0].click();", page_tabs) 
           time.sleep(4)
    scrape_data()



df1=pd.DataFrame()
df_links= []
trial = []
seenlink = []
route_name = []
route_link = []
dict = {} 
count = 0
for link in southbengal_route_links:
    driver.get(link)
    driver.maximize_window()
    if link not in seenlink:
        seenlink.append(link)
        try:
           wait = WebDriverWait(driver,3)
           wait_button = wait.until(EC.presence_of_element_located((By.CLASS_NAME, "button")))
           wait_button = wait.until(EC.element_to_be_clickable((By.ID, "result-section")))
           driver.execute_script("arguments[0].click();", wait_button)
        except NoSuchElementException:
           pass
        except TimeoutException:
           pass    
    
        for t in range(22):     #scrolling 22 times so that whole website loads
           driver.execute_script("window.scrollBy(0, 650);")
           time.sleep(0.5)
        names = driver.find_elements(By.CLASS_NAME,"travels")
        types = driver.find_elements(By.CLASS_NAME,"bus-type")
        depart_timings = driver.find_elements(By.CLASS_NAME,"dp-time")
        travel_durations = driver.find_elements(By.CLASS_NAME,"dur")
        arrivals = driver.find_elements(By.CLASS_NAME,"bp-time")
        star_ratings = driver.find_elements(By.CLASS_NAME,"column-six")
        fares = driver.find_elements(By.CLASS_NAME,"fare")
        seats_available = driver.find_elements(By.CLASS_NAME,"seat-left")
        bus_name = []
        bus_type = []
        departing = []
        duration = []
        reaching = []
        rating = []
        price = []
        availability = []

        list(bus_name.append(i.text) for i in names)
        list(bus_type.append(i.text) for i in types)
        list(departing.append(i.text) for i in depart_timings)
        list(duration.append(i.text) for i in travel_durations)
        list(reaching.append(i.text) for i in arrivals)
        list(rating.append(i.text[:3]) for i in star_ratings)
        for fare in fares:
            if (fare.text).isdigit():
                price.append(fare.text)
            else:
                price.append((fare.text).replace('INR','').strip())
        list(availability.append(i.text) for i in seats_available)
        time.sleep(3)
        #remove duplicates on the names 
        print("range of bus_name for link:",range(len(bus_name)))
        print("link:",link)
        for i in range(len(bus_name)):
            dict={'state_name':"Southbengal(SBSTC)",'route_name':southbengal_route_names[count], 'route_link':link, 'bus_name':bus_name[i], 'bus_type':bus_type[i], 'departing':departing[i], 
                           'duration':duration[i], 'reaching':reaching[i], 'rating':rating[i], 'price':price[i], 'availability':availability[i]}
            df_links.append(dict)
    else:
         print("already seen")
    count = count +1

print("count =:",count)
#for i in range(len(df_links)):
   #print("value of i:",i)
   #print("Total Routes on each links",df_links[i])

df1=pd.DataFrame(df_links)
df=pd.concat([df,df1],ignore_index=True)

df.to_csv('Southbengal.csv', index=False)
print(df)

Himachal Pradesh:
import time
import pandas as pd
import streamlit as st
from selenium import webdriver
from selenium.webdriver.common.by import By
from selenium.common.exceptions import NoSuchElementException
from selenium.common.exceptions import TimeoutException
from selenium.webdriver.support.ui import WebDriverWait
from selenium.webdriver.support import expected_conditions as EC
driver = webdriver.Chrome()  # Optional argument, if not specified will search path.\n",
driver.get('https://www.redbus.in/')
time.sleep(5)
driver.maximize_window()
driver.execute_script("window.scrollBy(0, 650)")
view_all = driver.find_element(By.CSS_SELECTOR, 'a[href="https://www.redbus.in/online-booking/rtc-directory"]')
view_all.click()
driver.get("https://www.redbus.in/online-booking/hrtc/?utm_source=rtchometile")
driver.maximize_window()
time.sleep(3)
driver.execute_script("window.scrollBy(0, window.innerHeight)")
driver.execute_script("window.scrollBy(0, window.innerHeight)")
driver.execute_script("window.scrollBy(0, window.innerHeight)")
himachal_route_names = []
himachal_route_links = []
def scrape_data():
  route_names = driver.find_elements(By.CLASS_NAME, "route")
  for route_name in route_names:
      himachal_route_names.append(route_name.text)

  route_links = driver.find_elements(By.CLASS_NAME, "route")
  hrefs = [route_link.get_attribute('href') for route_link in route_links]
  for href in hrefs:
      himachal_route_links.append(href)

page_tabs = driver.find_elements(By.CLASS_NAME, "DC_117_pageTabs")
for i in range(len(page_tabs)):
    if i > 0:
           page_tabs = driver.find_elements(By.CLASS_NAME, "DC_117_pageTabs")[i]
           driver.execute_script("arguments[0].click();", page_tabs) 
           time.sleep(4)
    scrape_data()

df1=pd.DataFrame()
df_links= []
trial = []
seenlink = []
route_name = []
route_link = []
dict = {} 
count = 0
for link in himachal_route_links:
    driver.get(link)
    driver.maximize_window()

    if link not in seenlink:
        seenlink.append(link)
        try:
           wait = WebDriverWait(driver,3)
           wait_button = wait.until(EC.presence_of_element_located((By.CLASS_NAME, "button")))
           wait_button = wait.until(EC.element_to_be_clickable((By.ID, "result-section")))
           driver.execute_script("arguments[0].click();", wait_button)
        except NoSuchElementException:
           pass
        except TimeoutException:
           pass    
    
        for t in range(22):     #scrolling 22 times so that whole website loads
           driver.execute_script("window.scrollBy(0, 650);")
           time.sleep(0.5)
        names = driver.find_elements(By.CLASS_NAME,"travels")
        types = driver.find_elements(By.CLASS_NAME,"bus-type")
        depart_timings = driver.find_elements(By.CLASS_NAME,"dp-time")
        travel_durations = driver.find_elements(By.CLASS_NAME,"dur")
        arrivals = driver.find_elements(By.CLASS_NAME,"bp-time")
        star_ratings = driver.find_elements(By.CLASS_NAME,"column-six")
        fares = driver.find_elements(By.CLASS_NAME,"fare")
        seats_available = driver.find_elements(By.CLASS_NAME,"seat-left")
        bus_name = []
        bus_type = []
        departing = []
        duration = []
        reaching = []
        rating = []
        price = []
        availability = []

        list(bus_name.append(i.text) for i in names)
        list(bus_type.append(i.text) for i in types)
        list(departing.append(i.text) for i in depart_timings)
        list(duration.append(i.text) for i in travel_durations)
        list(reaching.append(i.text) for i in arrivals)
        list(rating.append(i.text[:3]) for i in star_ratings)
        for fare in fares:
            if (fare.text).isdigit():
                price.append(fare.text)
            else:
                price.append((fare.text).replace('INR','').strip())
        list(availability.append(i.text) for i in seats_available)
        time.sleep(3)
        #remove duplicates on the names 
        #print("range of bus_name for link:",range(len(bus_name)))
        #print("link:",link)
        for i in range(len(bus_name)):
            dict={'state_name':"Himachal(HPTDC)",'route_name':himachal_route_names[count], 'route_link':link, 'bus_name':bus_name[i], 'bus_type':bus_type[i], 'departing':departing[i], 
                           'duration':duration[i], 'reaching':reaching[i], 'rating':rating[i], 'price':price[i], 'availability':availability[i]}
            df_links.append(dict)
    else:
         print("already seen")
    count = count +1

#print("count =:",count)
#for i in range(len(df_links)):
   #print("value of i:",i)
   #print("Total Routes on each links",df_links[i])

df1=pd.DataFrame(df_links)
df=pd.concat([df,df1],ignore_index=True)

df.to_csv('Himachal.csv', index=False)
#print(df)


import time
import pandas as pd
import streamlit as st
from selenium import webdriver
from selenium.webdriver.common.by import By
from selenium.common.exceptions import NoSuchElementException
from selenium.common.exceptions import TimeoutException
from selenium.webdriver.support.ui import WebDriverWait
from selenium.webdriver.support import expected_conditions as EC
driver = webdriver.Chrome()  # Optional argument, if not specified will search path.\n",
driver.get('https://www.redbus.in/')
time.sleep(5)
driver.maximize_window()
driver.execute_script("window.scrollBy(0, 650)")
view_all = driver.find_element(By.CSS_SELECTOR, 'a[href="https://www.redbus.in/online-booking/rtc-directory"]')
view_all.click()
driver.get("https://www.redbus.in/online-booking/astc/?utm_source=rtchometile")
driver.maximize_window()
time.sleep(3)
driver.execute_script("window.scrollBy(0, window.innerHeight)")
driver.execute_script("window.scrollBy(0, window.innerHeight)")
driver.execute_script("window.scrollBy(0, window.innerHeight)")
assam_route_names = []
assam_route_links = []

def scrape_data():
  route_names = driver.find_elements(By.CLASS_NAME, "route")
  for route_name in route_names:
      assam_route_names.append(route_name.text)

  route_links = driver.find_elements(By.CLASS_NAME, "route")
  hrefs = [route_link.get_attribute('href') for route_link in route_links]
  for href in hrefs:
      assam_route_links.append(href)

page_tabs = driver.find_elements(By.CLASS_NAME, "DC_117_pageTabs")
for i in range(len(page_tabs)):
    if i > 0:
           page_tabs = driver.find_elements(By.CLASS_NAME, "DC_117_pageTabs")[i]
           driver.execute_script("arguments[0].click();", page_tabs) 
           time.sleep(4)
    scrape_data()

df1=pd.DataFrame()
df_links= []
trial = []
seenlink = []
route_name = []
route_link = []
dict = {} 
count = 0
for link in assam_route_links:
    driver.get(link)
    driver.maximize_window()
    if link not in seenlink:
        seenlink.append(link)
        try:
           wait = WebDriverWait(driver,3)
           wait_button = wait.until(EC.presence_of_element_located((By.CLASS_NAME, "button")))
           wait_button = wait.until(EC.element_to_be_clickable((By.ID, "result-section")))
           driver.execute_script("arguments[0].click();", wait_button)
        except NoSuchElementException:
           pass
        except TimeoutException:
           pass    
    
        for t in range(22):     
           driver.execute_script("window.scrollBy(0, 650);")
           time.sleep(0.5)
        names = driver.find_elements(By.CLASS_NAME,"travels")
        types = driver.find_elements(By.CLASS_NAME,"bus-type")
        depart_timings = driver.find_elements(By.CLASS_NAME,"dp-time")
        travel_durations = driver.find_elements(By.CLASS_NAME,"dur")
        arrivals = driver.find_elements(By.CLASS_NAME,"bp-time")
        star_ratings = driver.find_elements(By.CLASS_NAME,"column-six")
        fares = driver.find_elements(By.CLASS_NAME,"fare")
        seats_available = driver.find_elements(By.CLASS_NAME,"seat-left")
        bus_name = []
        bus_type = []
        departing = []
        duration = []
        reaching = []
        rating = []
        price = []
        availability = []

        list(bus_name.append(i.text) for i in names)
        list(bus_type.append(i.text) for i in types)
        list(departing.append(i.text) for i in depart_timings)
        list(duration.append(i.text) for i in travel_durations)
        list(reaching.append(i.text) for i in arrivals)
        list(rating.append(i.text[:3]) for i in star_ratings)
        for fare in fares:
            if (fare.text).isdigit():
                price.append(fare.text)
            else:
                price.append((fare.text).replace('INR','').strip())
        list(availability.append(i.text) for i in seats_available)
        time.sleep(3)
        #remove duplicates on the names 
        print("range of bus_name for link:",range(len(bus_name)))
        print("link:",link)
        for i in range(len(bus_name)):
            dict={'state_name':"Assam(ASTC)",'route_name':assam_route_names[count], 'route_link':link, 'bus_name':bus_name[i], 'bus_type':bus_type[i], 'departing':departing[i], 
                           'duration':duration[i], 'reaching':reaching[i], 'rating':rating[i], 'price':price[i], 'availability':availability[i]}
            df_links.append(dict)
    else:
         print("already seen")
    count = count +1

print("count =:",count)
for i in range(len(df_links)):
   print("value of i:",i)
   print("Total Routes on each links",df_links[i])

df1=pd.DataFrame(df_links)
df=pd.concat([df,df1],ignore_index=True)

df.to_csv('Assam.csv', index=False)
print(df)
Chandigarh:

import time
import pandas as pd
import streamlit as st
from selenium import webdriver
from selenium.webdriver.common.by import By
from selenium.common.exceptions import NoSuchElementException
from selenium.common.exceptions import TimeoutException
from selenium.webdriver.support.ui import WebDriverWait
from selenium.webdriver.support import expected_conditions as EC
driver = webdriver.Chrome()  # Optional argument, if not specified will search path.\n",
driver.get('https://www.redbus.in/')
time.sleep(5)
driver.maximize_window()
driver.execute_script("window.scrollBy(0, 650)")
view_all = driver.find_element(By.CSS_SELECTOR, 'a[href="https://www.redbus.in/online-booking/rtc-directory"]')
view_all.click()
driver.get("https://www.redbus.in/online-booking/chandigarh-transport-undertaking-ctu")
driver.maximize_window()
time.sleep(3)
driver.execute_script("window.scrollBy(0, window.innerHeight)")
driver.execute_script("window.scrollBy(0, window.innerHeight)")
driver.execute_script("window.scrollBy(0, window.innerHeight)")
chandigarh_route_names = []
chandigarh_route_links = []
def scrape_data():
  route_names = driver.find_elements(By.CLASS_NAME, "route")
  for route_name in route_names:
      chandigarh_route_names.append(route_name.text)

  route_links = driver.find_elements(By.CLASS_NAME, "route")
  hrefs = [route_link.get_attribute('href') for route_link in route_links]
  for href in hrefs:
      chandigarh_route_links.append(href)

page_tabs = driver.find_elements(By.CLASS_NAME, "DC_117_pageTabs")
for i in range(len(page_tabs)):
    if i > 0:
           page_tabs = driver.find_elements(By.CLASS_NAME, "DC_117_pageTabs")[i]
           driver.execute_script("arguments[0].click();", page_tabs) 
           time.sleep(4)
    scrape_data()

df1=pd.DataFrame()
df_links= []
trial = []
seenlink = []
route_name = []
route_link = []
dict = {} 
count = 0
for link in chandigarh_route_links:
    driver.get(link)
    driver.maximize_window()
    if link not in seenlink:
        seenlink.append(link)
        try:
           wait = WebDriverWait(driver,3)
           wait_button = wait.until(EC.presence_of_element_located((By.CLASS_NAME, "button")))
           wait_button = wait.until(EC.element_to_be_clickable((By.ID, "result-section")))
           driver.execute_script("arguments[0].click();", wait_button)
        except NoSuchElementException:
           pass
        except TimeoutException:
           pass    
    
        for t in range(22):     #scrolling 22 times so that whole website loads
           driver.execute_script("window.scrollBy(0, 650);")
           time.sleep(0.5)
        names = driver.find_elements(By.CLASS_NAME,"travels")
        types = driver.find_elements(By.CLASS_NAME,"bus-type")
        depart_timings = driver.find_elements(By.CLASS_NAME,"dp-time")
        travel_durations = driver.find_elements(By.CLASS_NAME,"dur")
        arrivals = driver.find_elements(By.CLASS_NAME,"bp-time")
        star_ratings = driver.find_elements(By.CLASS_NAME,"column-six")
        fares = driver.find_elements(By.CLASS_NAME,"fare")
        seats_available = driver.find_elements(By.CLASS_NAME,"seat-left")
        bus_name = []
        bus_type = []
        departing = []
        duration = []
        reaching = []
        rating = []
        price = []
        availability = []

        list(bus_name.append(i.text) for i in names)
        list(bus_type.append(i.text) for i in types)
        list(departing.append(i.text) for i in depart_timings)
        list(duration.append(i.text) for i in travel_durations)
        list(reaching.append(i.text) for i in arrivals)
        list(rating.append(i.text[:3]) for i in star_ratings)
        for fare in fares:
            if (fare.text).isdigit():
                price.append(fare.text)
            else:
                price.append((fare.text).replace('INR','').strip())
        list(availability.append(i.text) for i in seats_available)
        time.sleep(3)
        #remove duplicates on the names 
        print("range of bus_name for link:",range(len(bus_name)))
        print("link:",link)
        for i in range(len(bus_name)):
            dict={'state_name': "Chandigarh(CTU)",'route_name':chandigarh_route_names[count], 'route_link':link, 'bus_name':bus_name[i], 'bus_type':bus_type[i], 'departing':departing[i], 
                           'duration':duration[i], 'reaching':reaching[i], 'rating':rating[i], 'price':price[i], 'availability':availability[i]}
            df_links.append(dict)
    else:
         print("already seen")
    count = count +1

print("count =:",count)
for i in range(len(df_links)):
   print("value of i:",i)
   print("Total Routes on each links",df_links[i])

df1=pd.DataFrame(df_links)
df=pd.concat([df,df1],ignore_index=True)

df.to_csv('Chandigarh.csv', index=False)

Uttarpradesh:

import time
import pandas as pd
import streamlit as st
from selenium import webdriver
from selenium.webdriver.common.by import By
from selenium.common.exceptions import NoSuchElementException
from selenium.common.exceptions import TimeoutException
from selenium.webdriver.support.ui import WebDriverWait
from selenium.webdriver.support import expected_conditions as EC
driver = webdriver.Chrome()  
driver.get('https://www.redbus.in/')
time.sleep(5)
driver.maximize_window()
driver.execute_script("window.scrollBy(0, 650)")
view_all = driver.find_element(By.CSS_SELECTOR, 'a[href="https://www.redbus.in/online-booking/rtc-directory"]')
view_all.click()
driver.get("https://www.redbus.in/online-booking/uttar-pradesh-state-road-transport-corporation-upsrtc/?utm_source=rtchometile")
driver.maximize_window()
time.sleep(3)
driver.execute_script("window.scrollBy(0, window.innerHeight)")
driver.execute_script("window.scrollBy(0, window.innerHeight)")
driver.execute_script("window.scrollBy(0, window.innerHeight)")
up_route_names = []
up_route_links = []


def scrape_data():
  route_names = driver.find_elements(By.CLASS_NAME, "route")
  for route_name in route_names:
      up_route_names.append(route_name.text)

  route_links = driver.find_elements(By.CLASS_NAME, "route")
  hrefs = [route_link.get_attribute('href') for route_link in route_links]
  for href in hrefs:
      up_route_links.append(href)

page_tabs = driver.find_elements(By.CLASS_NAME, "DC_117_pageTabs")
for i in range(len(page_tabs)):
    if i > 0:
           page_tabs = driver.find_elements(By.CLASS_NAME, "DC_117_pageTabs")[i]
           driver.execute_script("arguments[0].click();", page_tabs) 
           time.sleep(4)
    scrape_data()
print(up_route_names)


df_links= []
trial = []
seenlink = []
route_name = []
route_link = []
dict = {} 
df=pd.DataFrame()
count = 0
for link in up_route_links:
    driver.get(link)
    driver.maximize_window()
    if link not in seenlink:
        seenlink.append(link)
        try:
           wait = WebDriverWait(driver,3)
           wait_button = wait.until(EC.presence_of_element_located((By.CLASS_NAME, "button")))
           wait_button = wait.until(EC.element_to_be_clickable((By.ID, "result-section")))
           driver.execute_script("arguments[0].click();", wait_button)
        except NoSuchElementException:
           pass
        except TimeoutException:
           pass    
    
        for t in range(22):     #scrolling 22 times so that whole website loads
           driver.execute_script("window.scrollBy(0, 650);")
           time.sleep(0.5)
        names = driver.find_elements(By.CLASS_NAME,"travels")
        types = driver.find_elements(By.CLASS_NAME,"bus-type")
        depart_timings = driver.find_elements(By.CLASS_NAME,"dp-time")
        travel_durations = driver.find_elements(By.CLASS_NAME,"dur")
        arrivals = driver.find_elements(By.CLASS_NAME,"bp-time")
        star_ratings = driver.find_elements(By.CLASS_NAME,"column-six")
        fares = driver.find_elements(By.CLASS_NAME,"fare")
        seats_available = driver.find_elements(By.CLASS_NAME,"seat-left")
        bus_name = []
        bus_type = []
        departing = []
        duration = []
        reaching = []
        rating = []
        price = []
        availability = []

        list(bus_name.append(i.text) for i in names)
        list(bus_type.append(i.text) for i in types)
        list(departing.append(i.text) for i in depart_timings)
        list(duration.append(i.text) for i in travel_durations)
        list(reaching.append(i.text) for i in arrivals)
        list(rating.append(i.text[:3]) for i in star_ratings)
        for fare in fares:
            if (fare.text).isdigit():
                price.append(fare.text)
            else:
                price.append((fare.text).replace('INR','').strip())
        list(availability.append(i.text) for i in seats_available)
        time.sleep(3)
        #remove duplicates on the names 
        #print("range of bus_name for link:",range(len(bus_name)))
        #print("link:",link)
        for i in range(len(bus_name)):
            dict={'state_name':"Uttarpradesh(UPSRTC)",'route_name':up_route_names[count], 'route_link':link, 'bus_name':bus_name[i], 'bus_type':bus_type[i], 'departing':departing[i], 
                           'duration':duration[i], 'reaching':reaching[i], 'rating':rating[i], 'price':price[i], 'availability':availability[i]}
            df_links.append(dict)
    else:
         print("already seen")
    count = count +1

print("count =:",count)
for i in range(len(df_links)):
   print("value of i:",i)
   print("Total Routes on each links",df_links[i])

df1=pd.DataFrame(df_links)
df=pd.concat([df,df1],ignore_index=True)

df.to_csv('Uttarpradesh.csv', index=False)





