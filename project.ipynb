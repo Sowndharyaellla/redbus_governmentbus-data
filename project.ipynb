import time
import pandas as pd
import streamlit as st
from selenium import webdriver
from selenium.webdriver.common.by import By
from selenium.common.exceptions import NoSuchElementException
from selenium.common.exceptions import TimeoutException
from selenium.webdriver.support.ui import WebDriverWait
from selenium.webdriver.support import expected_conditions as EC
driver = webdriver.Chrome()  # Optional argument, if not specified will search path.\n",
driver.get('https://www.redbus.in/')
time.sleep(5)
driver.maximize_window()
driver.execute_script("window.scrollBy(0, window.innerHeight)")
view_all = driver.find_element(By.CSS_SELECTOR, 'a[href="https://www.redbus.in/online-booking/rtc-directory"]')
view_all.click()
driver.get("https://www.redbus.in/online-booking/rtc-directory")
driver.maximize_window()
kerala = driver.find_element(By.CSS_SELECTOR, 'a[href="/online-booking/ksrtc-kerala"]')
kerala.click()
time.sleep(3)
driver.execute_script("window.scrollBy(0, window.innerHeight)")
driver.execute_script("window.scrollBy(0, window.innerHeight)")
driver.execute_script("window.scrollBy(0, window.innerHeight)")
kerala_route_names = []
kerala_route_links = []
time.sleep(3)
def scrape_data():
  route_names = driver.find_elements(By.CLASS_NAME, "route")
  for route_name in route_names:
      kerala_route_names.append(route_name.text)

  route_links = driver.find_elements(By.CLASS_NAME, "route")
  hrefs = [route_link.get_attribute('href') for route_link in route_links]
  for href in hrefs:
      kerala_route_links.append(href)

page_tabs = driver.find_elements(By.CLASS_NAME, "DC_117_pageTabs")
for i in range(len(page_tabs)):
    if i > 0:
           page_tabs = driver.find_elements(By.CLASS_NAME, "DC_117_pageTabs")[i]
           driver.execute_script("arguments[0].click();", page_tabs) 
           time.sleep(4)
    scrape_data()
time.sleep(3)

df = pd.DataFrame(columns=['state_name' ,'route_name', 'route_link','bus_name', 'bus_type', 'departing', 
                           'duration', 'reaching', 'rating', 'price', 'availability'])
df_links= []
trial = []
seenlink = []
route_name = []
route_link = []
dict = {} 
count = 0
for link in kerala_route_links:
    driver.get(link)
    driver.maximize_window()
    if link not in seenlink:
        seenlink.append(link)
        try:
           wait = WebDriverWait(driver,3)
           wait_button = wait.until(EC.presence_of_element_located((By.CLASS_NAME, "button")))
           wait_button = wait.until(EC.element_to_be_clickable((By.ID, "result-section" )))
           driver.execute_script("arguments[0].click();", wait_button)
        except NoSuchElementException:
           pass
        except TimeoutException:
           pass    
    
        for t in range(22):     #scrolling 22 times so that whole website loads
           driver.execute_script("window.scrollBy(0, 650);")
           time.sleep(0.5)
        names = driver.find_elements(By.CLASS_NAME,"travels")
        types = driver.find_elements(By.CLASS_NAME,"bus-type")
        depart_timings = driver.find_elements(By.CLASS_NAME,"dp-time")
        travel_durations = driver.find_elements(By.CLASS_NAME,"dur")
        arrivals = driver.find_elements(By.CLASS_NAME,"bp-time")
        star_ratings = driver.find_elements(By.CLASS_NAME,"column-six")
        fares = driver.find_elements(By.CLASS_NAME,"fare")
        seats_available = driver.find_elements(By.CLASS_NAME,"seat-left")
        bus_name = []
        bus_type = []
        departing = []
        duration = []
        reaching = []
        rating = []
        price = []
        availability = []

        list(bus_name.append(i.text) for i in names)
        list(bus_type.append(i.text) for i in types)
        list(departing.append(i.text) for i in depart_timings)
        list(duration.append(i.text) for i in travel_durations)
        list(reaching.append(i.text) for i in arrivals)
        list(rating.append(i.text[:3]) for i in star_ratings)
        for fare in fares:
            if (fare.text).isdigit():
                price.append(fare.text)
            else:
                price.append((fare.text).replace('INR','').strip())
        list(availability.append(i.text) for i in seats_available)
        time.sleep(3)
        #remove duplicates on the names 
        print("range of bus_name for link:",range(len(bus_name)))
        print("link:",link)
        for i in range(len(bus_name)):
            dict={'state_name': "kerala",'route_name':kerala_route_names[count], 'route_link':link, 'bus_name':bus_name[i], 'bus_type':bus_type[i], 'departing':departing[i], 
                           'duration':duration[i], 'reaching':reaching[i], 'rating':rating[i], 'price':price[i], 'availability':availability[i]}
            df_links.append(dict)
    else:
         print("already seen")
    count = count +1
    

print("count =:",count)
#for i in range(len(df_links)):
   #print("value of i:",i)
   #print("Total Routes on each links",df_links[i])

df1=pd.DataFrame(df_links)
df=pd.concat([df,df1],ignore_index=True)

df.to_csv('kerala.csv', index=False)

ANDHRA:
import time
import pandas as pd
import streamlit as st
from selenium import webdriver
from selenium.webdriver.common.by import By
from selenium.common.exceptions import NoSuchElementException
from selenium.common.exceptions import TimeoutException
from selenium.webdriver.support.ui import WebDriverWait
from selenium.webdriver.support import expected_conditions as EC
driver = webdriver.Chrome()  # Optional argument, if not specified will search path.\n",
driver.get('https://www.redbus.in/')
time.sleep(5)
driver.maximize_window()
driver.execute_script("window.scrollBy(0, 650)")
view_all = driver.find_element(By.CSS_SELECTOR, 'a[href="https://www.redbus.in/online-booking/rtc-directory"]')
view_all.click()
driver.get("https://www.redbus.in/online-booking/apsrtc/?utm_source=rtchometile")
driver.maximize_window()
#APSRTC = driver.find_element(By.CSS_SELECTOR, "e")
#APSRTC.click()
time.sleep(3)
driver.execute_script("window.scrollBy(0, window.innerHeight)")
driver.execute_script("window.scrollBy(0, window.innerHeight)")
driver.execute_script("window.scrollBy(0, window.innerHeight)")
andhra_route_names = []
andhra_route_links = []

def scrape_data():
  route_names = driver.find_elements(By.CLASS_NAME, "route")
  for route_name in route_names:
      andhra_route_names.append(route_name.text)

  route_links = driver.find_elements(By.CLASS_NAME, "route")
  hrefs = [route_link.get_attribute('href') for route_link in route_links]
  for href in hrefs:
      andhra_route_links.append(href)

page_tabs = driver.find_elements(By.CLASS_NAME, "DC_117_pageTabs")
for i in range(len(page_tabs)):
    if i > 0:
           page_tabs = driver.find_elements(By.CLASS_NAME, "DC_117_pageTabs")[i]
           driver.execute_script("arguments[0].click();", page_tabs) 
           time.sleep(4)
    scrape_data()
print(andhra_route_names)
df1 = pd.DataFrame()
df_links= []
trial = []
seenlink = []
route_name = []
route_link = []
dict = {} 
count = 0
for link in andhra_route_links:
    driver.get(link)
    driver.maximize_window()
    if link not in seenlink:
        seenlink.append(link)
        try:
           wait = WebDriverWait(driver,3)
           wait_button = wait.until(EC.presence_of_element_located((By.CLASS_NAME, "button")))
           wait_button = wait.until(EC.element_to_be_clickable((By.ID, "result-section" )))
           driver.execute_script("arguments[0].click();", wait_button)
        except NoSuchElementException:
           pass
        except TimeoutException:
           pass    
    
        for t in range(22):     #scrolling 22 times so that whole website loads
           driver.execute_script("window.scrollBy(0, 650);")
           time.sleep(0.5)
        names = driver.find_elements(By.CLASS_NAME,"travels")
        types = driver.find_elements(By.CLASS_NAME,"bus-type")
        depart_timings = driver.find_elements(By.CLASS_NAME,"dp-time")
        travel_durations = driver.find_elements(By.CLASS_NAME,"dur")
        arrivals = driver.find_elements(By.CLASS_NAME,"bp-time")
        star_ratings = driver.find_elements(By.CLASS_NAME,"column-six")
        fares = driver.find_elements(By.CLASS_NAME,"fare")
        seats_available = driver.find_elements(By.CLASS_NAME,"seat-left")
        bus_name = []
        bus_type = []
        departing = []
        duration = []
        reaching = []
        rating = []
        price = []
        availability = []

        list(bus_name.append(i.text) for i in names)
        list(bus_type.append(i.text) for i in types)
        list(departing.append(i.text) for i in depart_timings)
        list(duration.append(i.text) for i in travel_durations)
        list(reaching.append(i.text) for i in arrivals)
        list(rating.append(i.text[:3]) for i in star_ratings)
        for fare in fares:
            if (fare.text).isdigit():
                price.append(fare.text)
            else:
                price.append((fare.text).replace('INR','').strip())
        list(availability.append(i.text) for i in seats_available)

        #remove duplicates on the names 
        print("range of bus_name for link:",range(len(bus_name)))
        print("link:",link)
        for i in range(len(bus_name)):
            dict={'state_name':"Andhra(APSRTC)",'route_name':andhra_route_names[count], 'route_link':link, 'bus_name':bus_name[i], 'bus_type':bus_type[i], 'departing':departing[i], 
                           'duration':duration[i], 'reaching':reaching[i], 'rating':rating[i], 'price':price[i], 'availability':availability[i]}
            df_links.append(dict)
    else:
         print("already seen")
    count = count +1

print("count =:",count)
for i in range(len(df_links)):
   print("value of i:",i)
   print("Total Routes on each links",df_links[i])

df1=pd.DataFrame(df_links)
df=pd.concat([df,df1],ignore_index=True)

df.to_csv('df_andhra.csv', index=False)
print(df)
Kadamba:

import time
import pandas as pd
import streamlit as st
from selenium import webdriver
from selenium.webdriver.common.by import By
from selenium.common.exceptions import NoSuchElementException
from selenium.common.exceptions import TimeoutException
from selenium.webdriver.support.ui import WebDriverWait
from selenium.webdriver.support import expected_conditions as EC
driver = webdriver.Chrome()  # Optional argument, if not specified will search path.\n",
driver.get('https://www.redbus.in/')
time.sleep(5)
driver.maximize_window()
driver.execute_script("window.scrollBy(0, 650)")
view_all = driver.find_element(By.CSS_SELECTOR, 'a[href="https://www.redbus.in/online-booking/rtc-directory"]')
view_all.click()
driver.get("https://www.redbus.in/online-booking/ktcl/?utm_source=rtchometile")
driver.maximize_window()
#ktcl = driver.find_element(By.CLASS_NAME, 'a[href="/online-booking/ktcl"]')
#ktcl.click()
time.sleep(3)
driver.execute_script("window.scrollBy(0, window.innerHeight)")
driver.execute_script("window.scrollBy(0, window.innerHeight)")
driver.execute_script("window.scrollBy(0, window.innerHeight)")
kadamba_route_names = []
kadamba_route_links = []

def scrape_data():
  route_names = driver.find_elements(By.CLASS_NAME, "route")
  for route_name in route_names:
      kadamba_route_names.append(route_name.text)

  route_links = driver.find_elements(By.CLASS_NAME, "route")
  hrefs = [route_link.get_attribute('href') for route_link in route_links]
  for href in hrefs:
      kadamba_route_links.append(href)

page_tabs = driver.find_elements(By.CLASS_NAME, "DC_117_pageTabs")
for i in range(len(page_tabs)):
    if i > 0:
           page_tabs = driver.find_elements(By.CLASS_NAME, "DC_117_pageTabs")[i]
           driver.execute_script("arguments[0].click();", page_tabs) 
           time.sleep(4)
    scrape_data()



df_links= []
trial = []
seenlink = []
route_name = []
route_link = []
dict = {}
df1=pd.DataFrame() 
count = 0
for link in kadamba_route_links:
    driver.get(link)
    driver.maximize_window()
    if link not in seenlink:
        seenlink.append(link)
        try:
           wait = WebDriverWait(driver,3)
           wait_button = wait.until(EC.presence_of_element_located((By.CLASS_NAME, "button")))
           wait_button = wait.until(EC.element_to_be_clickable((By.CLASS_NAME, "button")))
           driver.execute_script("arguments[0].click();", wait_button)
        except NoSuchElementException:
           pass
        except TimeoutException:
           pass    
    
        for t in range(22):     #scrolling 22 times so that whole website loads
           driver.execute_script("window.scrollBy(0, 650);")
           time.sleep(0.5)
        names = driver.find_elements(By.CLASS_NAME,"travels")
        types = driver.find_elements(By.CLASS_NAME,"bus-type")
        depart_timings = driver.find_elements(By.CLASS_NAME,"dp-time")
        travel_durations = driver.find_elements(By.CLASS_NAME,"dur")
        arrivals = driver.find_elements(By.CLASS_NAME,"bp-time")
        star_ratings = driver.find_elements(By.CLASS_NAME,"column-six")
        fares = driver.find_elements(By.CLASS_NAME,"fare")
        seats_available = driver.find_elements(By.CLASS_NAME,"seat-left")
        bus_name = []
        bus_type = []
        departing = []
        duration = []
        reaching = []
        rating = []
        price = []
        availability = []

        list(bus_name.append(i.text) for i in names)
        list(bus_type.append(i.text) for i in types)
        list(departing.append(i.text) for i in depart_timings)
        list(duration.append(i.text) for i in travel_durations)
        list(reaching.append(i.text) for i in arrivals)
        list(rating.append(i.text[:3]) for i in star_ratings)
        for fare in fares:
            if (fare.text).isdigit():
                price.append(fare.text)
            else:
                price.append((fare.text).replace('INR','').strip())
        list(availability.append(i.text) for i in seats_available)
        time.sleep(3)
        #remove duplicates on the names 
        print("range of bus_name for link:",range(len(bus_name)))
        print("link:",link)
        for i in range(len(bus_name)):
            dict={'state_name':"Kadamba(KTCL)",'route_name':kadamba_route_names[count], 'route_link':link, 'bus_name':bus_name[i], 'bus_type':bus_type[i], 'departing':departing[i], 
                           'duration':duration[i], 'reaching':reaching[i], 'rating':rating[i], 'price':price[i], 'availability':availability[i]}
            df_links.append(dict)
    else:
         print("already seen")
    count = count +1

print("count =:",count)
for i in range(len(df_links)):
   print("value of i:",i)
   print("Total Routes on each links",df_links[i])

df1=pd.DataFrame(df_links)
df=pd.concat([df,df1],ignore_index=True)

df.to_csv('Kadamba.csv', index=False)
print(df)
range of bus_name for link: range(0, 10)
link: https://www.redbus.in/bus-tickets/pune-to-goa
range of bus_name for link: range(0, 5)
link: https://www.redbus.in/bus-tickets/goa-to-pune
range of bus_name for link: range(0, 10)
link: https://www.redbus.in/bus-tickets/mumbai-to-goa
range of bus_name for link: range(0, 10)
link: https://www.redbus.in/bus-tickets/goa-to-mumbai
range of bus_name for link: range(0, 0)
link: https://www.redbus.in/bus-tickets/pandharpur-to-goa
range of bus_name for link: range(0, 9)
link: https://www.redbus.in/bus-tickets/bangalore-to-goa
range of bus_name for link: range(0, 2)
link: https://www.redbus.in/bus-tickets/goa-to-pandharpur
range of bus_name for link: range(0, 0)
link: https://www.redbus.in/bus-tickets/belagavi-to-goa
range of bus_name for link: range(0, 10)
link: https://www.redbus.in/bus-tickets/goa-to-bangalore
range of bus_name for link: range(0, 1)
link: https://www.redbus.in/bus-tickets/solapur-to-goa
range of bus_name for link: range(0, 10)
link: https://www.redbus.in/bus-tickets/goa-to-kolhapur-maharashtra
range of bus_name for link: range(0, 2)
link: https://www.redbus.in/bus-tickets/goa-to-solapur
range of bus_name for link: range(0, 2)
link: https://www.redbus.in/bus-tickets/goa-to-sangola
range of bus_name for link: range(0, 1)
link: https://www.redbus.in/bus-tickets/sangola-to-goa
range of bus_name for link: range(0, 0)
link: https://www.redbus.in/bus-tickets/calangute-goa-to-goa-airport
range of bus_name for link: range(0, 1)
link: https://www.redbus.in/bus-tickets/goa-to-sangli
range of bus_name for link: range(0, 0)
link: https://www.redbus.in/bus-tickets/calangute-goa-to-mopa-airport
range of bus_name for link: range(0, 0)
link: https://www.redbus.in/bus-tickets/mopa-airport-to-calangute-goa
range of bus_name for link: range(0, 0)
link: https://www.redbus.in/bus-tickets/ponda-to-belagavi
range of bus_name for link: range(0, 2)
link: https://www.redbus.in/bus-tickets/goa-to-miraj
range of bus_name for link: range(0, 0)
link: https://www.redbus.in/bus-tickets/goa-airport-to-calangute-goa
range of bus_name for link: range(0, 0)
link: https://www.redbus.in/bus-tickets/marcel-to-belagavi
range of bus_name for link: range(0, 1)
link: https://www.redbus.in/bus-tickets/shimoga-to-goa
range of bus_name for link: range(0, 0)
link: https://www.redbus.in/bus-tickets/goa-to-mopa-airport
range of bus_name for link: range(0, 10)
link: https://www.redbus.in/bus-tickets/goa-to-satara
range of bus_name for link: range(0, 0)
link: https://www.redbus.in/bus-tickets/belagavi-to-marcel
range of bus_name for link: range(0, 0)
link: https://www.redbus.in/bus-tickets/mopa-airport-to-goa
range of bus_name for link: range(0, 0)
link: https://www.redbus.in/bus-tickets/shirdi-to-goa
range of bus_name for link: range(0, 1)
link: https://www.redbus.in/bus-tickets/goa-to-shimoga
range of bus_name for link: range(0, 0)
link: https://www.redbus.in/bus-tickets/goa-to-shirdi
range of bus_name for link: range(0, 0)
link: https://www.redbus.in/bus-tickets/goa-to-goa-airport
range of bus_name for link: range(0, 0)
link: https://www.redbus.in/bus-tickets/margoa-to-mopa-airport
range of bus_name for link: range(0, 0)
link: https://www.redbus.in/bus-tickets/goa-airport-to-goa
range of bus_name for link: range(0, 0)
link: https://www.redbus.in/bus-tickets/mopa-airport-to-margoa
range of bus_name for link: range(0, 0)
link: https://www.redbus.in/bus-tickets/belagavi-to-saquelim
range of bus_name for link: range(0, 0)
link: https://www.redbus.in/bus-tickets/panaji-to-mopa-airport
range of bus_name for link: range(0, 0)
link: https://www.redbus.in/bus-tickets/saquelim-to-belagavi
range of bus_name for link: range(0, 0)
link: https://www.redbus.in/bus-tickets/calangute-goa-to-goa
range of bus_name for link: range(0, 0)
link: https://www.redbus.in/bus-tickets/calangute-goa-to-panaji
range of bus_name for link: range(0, 0)
link: https://www.redbus.in/bus-tickets/goa-airport-to-panaji
count =: 40
value of i: 0
Total Routes on each links {'state_name': 'Kadamba(KTCL)', 'route_name': 'Pune to Goa', 'route_link': 'https://www.redbus.in/bus-tickets/pune-to-goa', 'bus_name': 'Ashray Amrutyog', 'bus_type': 'A/C Sleeper (2+1)', 'departing': '20:15', 'duration': '13h 15m', 'reaching': '09:30', 'rating': '4.4', 'price': '725', 'availability': '14 Seats available'}
value of i: 1
Total Routes on each links {'state_name': 'Kadamba(KTCL)', 'route_name': 'Pune to Goa', 'route_link': 'https://www.redbus.in/bus-tickets/pune-to-goa', 'bus_name': '', 'bus_type': '', 'departing': '', 'duration': '', 'reaching': '', 'rating': '', 'price': '', 'availability': ''}
value of i: 2
Total Routes on each links {'state_name': 'Kadamba(KTCL)', 'route_name': 'Pune to Goa', 'route_link': 'https://www.redbus.in/bus-tickets/pune-to-goa', 'bus_name': '', 'bus_type': '', 'departing': '', 'duration': '', 'reaching': '', 'rating': '', 'price': '', 'availability': ''}
value of i: 3
Total Routes on each links {'state_name': 'Kadamba(KTCL)', 'route_name': 'Pune to Goa', 'route_link': 'https://www.redbus.in/bus-tickets/pune-to-goa', 'bus_name': '', 'bus_type': '', 'departing': '', 'duration': '', 'reaching': '', 'rating': '', 'price': '', 'availability': ''}
value of i: 4
Total Routes on each links {'state_name': 'Kadamba(KTCL)', 'route_name': 'Pune to Goa', 'route_link': 'https://www.redbus.in/bus-tickets/pune-to-goa', 'bus_name': '', 'bus_type': '', 'departing': '', 'duration': '', 'reaching': '', 'rating': '', 'price': '', 'availability': ''}
value of i: 5
Total Routes on each links {'state_name': 'Kadamba(KTCL)', 'route_name': 'Pune to Goa', 'route_link': 'https://www.redbus.in/bus-tickets/pune-to-goa', 'bus_name': '', 'bus_type': '', 'departing': '', 'duration': '', 'reaching': '', 'rating': '', 'price': '', 'availability': ''}
value of i: 6
Total Routes on each links {'state_name': 'Kadamba(KTCL)', 'route_name': 'Pune to Goa', 'route_link': 'https://www.redbus.in/bus-tickets/pune-to-goa', 'bus_name': '', 'bus_type': '', 'departing': '', 'duration': '', 'reaching': '', 'rating': '', 'price': '', 'availability': ''}
value of i: 7
Total Routes on each links {'state_name': 'Kadamba(KTCL)', 'route_name': 'Pune to Goa', 'route_link': 'https://www.redbus.in/bus-tickets/pune-to-goa', 'bus_name': '', 'bus_type': '', 'departing': '', 'duration': '', 'reaching': '', 'rating': '', 'price': '', 'availability': ''}
value of i: 8
Total Routes on each links {'state_name': 'Kadamba(KTCL)', 'route_name': 'Pune to Goa', 'route_link': 'https://www.redbus.in/bus-tickets/pune-to-goa', 'bus_name': '', 'bus_type': '', 'departing': '', 'duration': '', 'reaching': '', 'rating': '', 'price': '', 'availability': ''}
value of i: 9
Total Routes on each links {'state_name': 'Kadamba(KTCL)', 'route_name': 'Pune to Goa', 'route_link': 'https://www.redbus.in/bus-tickets/pune-to-goa', 'bus_name': '', 'bus_type': '', 'departing': '', 'duration': '', 'reaching': '', 'rating': '', 'price': '', 'availability': ''}
value of i: 10
Total Routes on each links {'state_name': 'Kadamba(KTCL)', 'route_name': 'Goa to Pune', 'route_link': 'https://www.redbus.in/bus-tickets/goa-to-pune', 'bus_name': 'Kadamba Transport Corporation Limited (KTCL) - 89820', 'bus_type': 'A/C Sleeper (2+1)', 'departing': '19:30', 'duration': '11h 30m', 'reaching': '07:00', 'rating': '3.2', 'price': '1000', 'availability': '3 Seats available'}
value of i: 11
Total Routes on each links {'state_name': 'Kadamba(KTCL)', 'route_name': 'Goa to Pune', 'route_link': 'https://www.redbus.in/bus-tickets/goa-to-pune', 'bus_name': '', 'bus_type': '', 'departing': '', 'duration': '', 'reaching': '', 'rating': '', 'price': '', 'availability': ''}
value of i: 12
Total Routes on each links {'state_name': 'Kadamba(KTCL)', 'route_name': 'Goa to Pune', 'route_link': 'https://www.redbus.in/bus-tickets/goa-to-pune', 'bus_name': '', 'bus_type': '', 'departing': '', 'duration': '', 'reaching': '', 'rating': '', 'price': '', 'availability': ''}
value of i: 13
Total Routes on each links {'state_name': 'Kadamba(KTCL)', 'route_name': 'Goa to Pune', 'route_link': 'https://www.redbus.in/bus-tickets/goa-to-pune', 'bus_name': '', 'bus_type': '', 'departing': '', 'duration': '', 'reaching': '', 'rating': '', 'price': '', 'availability': ''}
value of i: 14
Total Routes on each links {'state_name': 'Kadamba(KTCL)', 'route_name': 'Goa to Pune', 'route_link': 'https://www.redbus.in/bus-tickets/goa-to-pune', 'bus_name': '', 'bus_type': '', 'departing': '', 'duration': '', 'reaching': '', 'rating': '', 'price': '', 'availability': ''}
value of i: 15
Total Routes on each links {'state_name': 'Kadamba(KTCL)', 'route_name': 'Mumbai to Goa', 'route_link': 'https://www.redbus.in/bus-tickets/mumbai-to-goa', 'bus_name': 'Zingbus Plus', 'bus_type': 'VE A/C Sleeper (2+1)', 'departing': '20:00', 'duration': '16h 25m', 'reaching': '12:25', 'rating': '4.6', 'price': '630', 'availability': '12 Seats available'}
value of i: 16
Total Routes on each links {'state_name': 'Kadamba(KTCL)', 'route_name': 'Mumbai to Goa', 'route_link': 'https://www.redbus.in/bus-tickets/mumbai-to-goa', 'bus_name': 'Jolly Tours and Travels', 'bus_type': 'VE A/C Sleeper (2+1)', 'departing': '19:25', 'duration': '11h 40m', 'reaching': '07:05', 'rating': '4.0', 'price': '840', 'availability': '11 Seats available'}
value of i: 17
Total Routes on each links {'state_name': 'Kadamba(KTCL)', 'route_name': 'Mumbai to Goa', 'route_link': 'https://www.redbus.in/bus-tickets/mumbai-to-goa', 'bus_name': '', 'bus_type': '', 'departing': '', 'duration': '', 'reaching': '', 'rating': '', 'price': '', 'availability': ''}
value of i: 18
Total Routes on each links {'state_name': 'Kadamba(KTCL)', 'route_name': 'Mumbai to Goa', 'route_link': 'https://www.redbus.in/bus-tickets/mumbai-to-goa', 'bus_name': '', 'bus_type': '', 'departing': '', 'duration': '', 'reaching': '', 'rating': '', 'price': '', 'availability': ''}
value of i: 19
Total Routes on each links {'state_name': 'Kadamba(KTCL)', 'route_name': 'Mumbai to Goa', 'route_link': 'https://www.redbus.in/bus-tickets/mumbai-to-goa', 'bus_name': '', 'bus_type': '', 'departing': '', 'duration': '', 'reaching': '', 'rating': '', 'price': '', 'availability': ''}
value of i: 20
Total Routes on each links {'state_name': 'Kadamba(KTCL)', 'route_name': 'Mumbai to Goa', 'route_link': 'https://www.redbus.in/bus-tickets/mumbai-to-goa', 'bus_name': '', 'bus_type': '', 'departing': '', 'duration': '', 'reaching': '', 'rating': '', 'price': '', 'availability': ''}
value of i: 21
Total Routes on each links {'state_name': 'Kadamba(KTCL)', 'route_name': 'Mumbai to Goa', 'route_link': 'https://www.redbus.in/bus-tickets/mumbai-to-goa', 'bus_name': '', 'bus_type': '', 'departing': '', 'duration': '', 'reaching': '', 'rating': '', 'price': '', 'availability': ''}
value of i: 22
Total Routes on each links {'state_name': 'Kadamba(KTCL)', 'route_name': 'Mumbai to Goa', 'route_link': 'https://www.redbus.in/bus-tickets/mumbai-to-goa', 'bus_name': '', 'bus_type': '', 'departing': '', 'duration': '', 'reaching': '', 'rating': '', 'price': '', 'availability': ''}
value of i: 23
Total Routes on each links {'state_name': 'Kadamba(KTCL)', 'route_name': 'Mumbai to Goa', 'route_link': 'https://www.redbus.in/bus-tickets/mumbai-to-goa', 'bus_name': '', 'bus_type': '', 'departing': '', 'duration': '', 'reaching': '', 'rating': '', 'price': '', 'availability': ''}
value of i: 24
Total Routes on each links {'state_name': 'Kadamba(KTCL)', 'route_name': 'Mumbai to Goa', 'route_link': 'https://www.redbus.in/bus-tickets/mumbai-to-goa', 'bus_name': '', 'bus_type': '', 'departing': '', 'duration': '', 'reaching': '', 'rating': '', 'price': '', 'availability': ''}
value of i: 25
Total Routes on each links {'state_name': 'Kadamba(KTCL)', 'route_name': 'Goa to Mumbai', 'route_link': 'https://www.redbus.in/bus-tickets/goa-to-mumbai', 'bus_name': 'Zingbus Plus', 'bus_type': 'VE A/C Sleeper (2+1)', 'departing': '20:00', 'duration': '15h 50m', 'reaching': '11:50', 'rating': '4.6', 'price': '684', 'availability': '16 Seats available'}
value of i: 26
Total Routes on each links {'state_name': 'Kadamba(KTCL)', 'route_name': 'Goa to Mumbai', 'route_link': 'https://www.redbus.in/bus-tickets/goa-to-mumbai', 'bus_name': 'Zingbus Plus', 'bus_type': 'VE A/C Sleeper (2+1)', 'departing': '19:20', 'duration': '15h 25m', 'reaching': '10:45', 'rating': '4.4', 'price': '684', 'availability': '21 Seats available'}
value of i: 27
Total Routes on each links {'state_name': 'Kadamba(KTCL)', 'route_name': 'Goa to Mumbai', 'route_link': 'https://www.redbus.in/bus-tickets/goa-to-mumbai', 'bus_name': '', 'bus_type': '', 'departing': '', 'duration': '', 'reaching': '', 'rating': '', 'price': '', 'availability': ''}
value of i: 28
Total Routes on each links {'state_name': 'Kadamba(KTCL)', 'route_name': 'Goa to Mumbai', 'route_link': 'https://www.redbus.in/bus-tickets/goa-to-mumbai', 'bus_name': '', 'bus_type': '', 'departing': '', 'duration': '', 'reaching': '', 'rating': '', 'price': '', 'availability': ''}
value of i: 29
Total Routes on each links {'state_name': 'Kadamba(KTCL)', 'route_name': 'Goa to Mumbai', 'route_link': 'https://www.redbus.in/bus-tickets/goa-to-mumbai', 'bus_name': '', 'bus_type': '', 'departing': '', 'duration': '', 'reaching': '', 'rating': '', 'price': '', 'availability': ''}
value of i: 30
Total Routes on each links {'state_name': 'Kadamba(KTCL)', 'route_name': 'Goa to Mumbai', 'route_link': 'https://www.redbus.in/bus-tickets/goa-to-mumbai', 'bus_name': '', 'bus_type': '', 'departing': '', 'duration': '', 'reaching': '', 'rating': '', 'price': '', 'availability': ''}
value of i: 31
Total Routes on each links {'state_name': 'Kadamba(KTCL)', 'route_name': 'Goa to Mumbai', 'route_link': 'https://www.redbus.in/bus-tickets/goa-to-mumbai', 'bus_name': '', 'bus_type': '', 'departing': '', 'duration': '', 'reaching': '', 'rating': '', 'price': '', 'availability': ''}
value of i: 32
Total Routes on each links {'state_name': 'Kadamba(KTCL)', 'route_name': 'Goa to Mumbai', 'route_link': 'https://www.redbus.in/bus-tickets/goa-to-mumbai', 'bus_name': '', 'bus_type': '', 'departing': '', 'duration': '', 'reaching': '', 'rating': '', 'price': '', 'availability': ''}
value of i: 33
Total Routes on each links {'state_name': 'Kadamba(KTCL)', 'route_name': 'Goa to Mumbai', 'route_link': 'https://www.redbus.in/bus-tickets/goa-to-mumbai', 'bus_name': '', 'bus_type': '', 'departing': '', 'duration': '', 'reaching': '', 'rating': '', 'price': '', 'availability': ''}
value of i: 34
Total Routes on each links {'state_name': 'Kadamba(KTCL)', 'route_name': 'Goa to Mumbai', 'route_link': 'https://www.redbus.in/bus-tickets/goa-to-mumbai', 'bus_name': '', 'bus_type': '', 'departing': '', 'duration': '', 'reaching': '', 'rating': '', 'price': '', 'availability': ''}
value of i: 35
Total Routes on each links {'state_name': 'Kadamba(KTCL)', 'route_name': 'Bangalore to Goa', 'route_link': 'https://www.redbus.in/bus-tickets/bangalore-to-goa', 'bus_name': 'Intercity travels', 'bus_type': 'Bharat Benz A/C Sleeper (2+1)', 'departing': '19:30', 'duration': '14h 45m', 'reaching': '10:15', 'rating': '4.7', 'price': '1699', 'availability': '2 Seats available'}
value of i: 36
Total Routes on each links {'state_name': 'Kadamba(KTCL)', 'route_name': 'Bangalore to Goa', 'route_link': 'https://www.redbus.in/bus-tickets/bangalore-to-goa', 'bus_name': '', 'bus_type': '', 'departing': '', 'duration': '', 'reaching': '', 'rating': '', 'price': '', 'availability': ''}
value of i: 37
Total Routes on each links {'state_name': 'Kadamba(KTCL)', 'route_name': 'Bangalore to Goa', 'route_link': 'https://www.redbus.in/bus-tickets/bangalore-to-goa', 'bus_name': '', 'bus_type': '', 'departing': '', 'duration': '', 'reaching': '', 'rating': '', 'price': '', 'availability': ''}
value of i: 38
Total Routes on each links {'state_name': 'Kadamba(KTCL)', 'route_name': 'Bangalore to Goa', 'route_link': 'https://www.redbus.in/bus-tickets/bangalore-to-goa', 'bus_name': '', 'bus_type': '', 'departing': '', 'duration': '', 'reaching': '', 'rating': '', 'price': '', 'availability': ''}
value of i: 39
Total Routes on each links {'state_name': 'Kadamba(KTCL)', 'route_name': 'Bangalore to Goa', 'route_link': 'https://www.redbus.in/bus-tickets/bangalore-to-goa', 'bus_name': '', 'bus_type': '', 'departing': '', 'duration': '', 'reaching': '', 'rating': '', 'price': '', 'availability': ''}
value of i: 40
Total Routes on each links {'state_name': 'Kadamba(KTCL)', 'route_name': 'Bangalore to Goa', 'route_link': 'https://www.redbus.in/bus-tickets/bangalore-to-goa', 'bus_name': '', 'bus_type': '', 'departing': '', 'duration': '', 'reaching': '', 'rating': '', 'price': '', 'availability': ''}
value of i: 41
Total Routes on each links {'state_name': 'Kadamba(KTCL)', 'route_name': 'Bangalore to Goa', 'route_link': 'https://www.redbus.in/bus-tickets/bangalore-to-goa', 'bus_name': '', 'bus_type': '', 'departing': '', 'duration': '', 'reaching': '', 'rating': '', 'price': '', 'availability': ''}
value of i: 42
Total Routes on each links {'state_name': 'Kadamba(KTCL)', 'route_name': 'Bangalore to Goa', 'route_link': 'https://www.redbus.in/bus-tickets/bangalore-to-goa', 'bus_name': '', 'bus_type': '', 'departing': '', 'duration': '', 'reaching': '', 'rating': '', 'price': '', 'availability': ''}
value of i: 43
Total Routes on each links {'state_name': 'Kadamba(KTCL)', 'route_name': 'Bangalore to Goa', 'route_link': 'https://www.redbus.in/bus-tickets/bangalore-to-goa', 'bus_name': '', 'bus_type': '', 'departing': '', 'duration': '', 'reaching': '', 'rating': '', 'price': '', 'availability': ''}
value of i: 44
Total Routes on each links {'state_name': 'Kadamba(KTCL)', 'route_name': 'Goa to Pandharpur', 'route_link': 'https://www.redbus.in/bus-tickets/goa-to-pandharpur', 'bus_name': 'Kadamba Transport Corporation Limited (KTCL) - 60996', 'bus_type': 'Non AC Seater 2+2', 'departing': '20:00', 'duration': '11h 00m', 'reaching': '07:00', 'rating': '3.4', 'price': '735', 'availability': '26 Seats available'}
value of i: 45
Total Routes on each links {'state_name': 'Kadamba(KTCL)', 'route_name': 'Goa to Pandharpur', 'route_link': 'https://www.redbus.in/bus-tickets/goa-to-pandharpur', 'bus_name': 'SR Tours & Travels', 'bus_type': 'A/C Sleeper (2+1)', 'departing': '19:15', 'duration': '08h 05m', 'reaching': '03:20', 'rating': '2.6', 'price': '990', 'availability': '13 Seats available'}
value of i: 46
Total Routes on each links {'state_name': 'Kadamba(KTCL)', 'route_name': 'Goa to Bangalore', 'route_link': 'https://www.redbus.in/bus-tickets/goa-to-bangalore', 'bus_name': 'Intercity travels', 'bus_type': 'Bharat Benz A/C Sleeper (2+1)', 'departing': '19:30', 'duration': '11h 45m', 'reaching': '07:15', 'rating': '4.6', 'price': '1499', 'availability': '2 Seats available'}
value of i: 47
Total Routes on each links {'state_name': 'Kadamba(KTCL)', 'route_name': 'Goa to Bangalore', 'route_link': 'https://www.redbus.in/bus-tickets/goa-to-bangalore', 'bus_name': '', 'bus_type': '', 'departing': '', 'duration': '', 'reaching': '', 'rating': '', 'price': '', 'availability': ''}
value of i: 48
Total Routes on each links {'state_name': 'Kadamba(KTCL)', 'route_name': 'Goa to Bangalore', 'route_link': 'https://www.redbus.in/bus-tickets/goa-to-bangalore', 'bus_name': '', 'bus_type': '', 'departing': '', 'duration': '', 'reaching': '', 'rating': '', 'price': '', 'availability': ''}
value of i: 49
Total Routes on each links {'state_name': 'Kadamba(KTCL)', 'route_name': 'Goa to Bangalore', 'route_link': 'https://www.redbus.in/bus-tickets/goa-to-bangalore', 'bus_name': '', 'bus_type': '', 'departing': '', 'duration': '', 'reaching': '', 'rating': '', 'price': '', 'availability': ''}
value of i: 50
Total Routes on each links {'state_name': 'Kadamba(KTCL)', 'route_name': 'Goa to Bangalore', 'route_link': 'https://www.redbus.in/bus-tickets/goa-to-bangalore', 'bus_name': '', 'bus_type': '', 'departing': '', 'duration': '', 'reaching': '', 'rating': '', 'price': '', 'availability': ''}
value of i: 51
Total Routes on each links {'state_name': 'Kadamba(KTCL)', 'route_name': 'Goa to Bangalore', 'route_link': 'https://www.redbus.in/bus-tickets/goa-to-bangalore', 'bus_name': '', 'bus_type': '', 'departing': '', 'duration': '', 'reaching': '', 'rating': '', 'price': '', 'availability': ''}
value of i: 52
Total Routes on each links {'state_name': 'Kadamba(KTCL)', 'route_name': 'Goa to Bangalore', 'route_link': 'https://www.redbus.in/bus-tickets/goa-to-bangalore', 'bus_name': '', 'bus_type': '', 'departing': '', 'duration': '', 'reaching': '', 'rating': '', 'price': '', 'availability': ''}
value of i: 53
Total Routes on each links {'state_name': 'Kadamba(KTCL)', 'route_name': 'Goa to Bangalore', 'route_link': 'https://www.redbus.in/bus-tickets/goa-to-bangalore', 'bus_name': '', 'bus_type': '', 'departing': '', 'duration': '', 'reaching': '', 'rating': '', 'price': '', 'availability': ''}
value of i: 54
Total Routes on each links {'state_name': 'Kadamba(KTCL)', 'route_name': 'Goa to Bangalore', 'route_link': 'https://www.redbus.in/bus-tickets/goa-to-bangalore', 'bus_name': '', 'bus_type': '', 'departing': '', 'duration': '', 'reaching': '', 'rating': '', 'price': '', 'availability': ''}
value of i: 55
Total Routes on each links {'state_name': 'Kadamba(KTCL)', 'route_name': 'Goa to Bangalore', 'route_link': 'https://www.redbus.in/bus-tickets/goa-to-bangalore', 'bus_name': '', 'bus_type': '', 'departing': '', 'duration': '', 'reaching': '', 'rating': '', 'price': '', 'availability': ''}
value of i: 56
Total Routes on each links {'state_name': 'Kadamba(KTCL)', 'route_name': 'Solapur to Goa', 'route_link': 'https://www.redbus.in/bus-tickets/solapur-to-goa', 'bus_name': 'Humsafar Travels', 'bus_type': 'A/C Sleeper (2+1)', 'departing': '23:30', 'duration': '09h 30m', 'reaching': '09:00', 'rating': '3.4', 'price': '1275', 'availability': '1 Seat available'}
value of i: 57
Total Routes on each links {'state_name': 'Kadamba(KTCL)', 'route_name': 'Goa to Kolhapur(Maharashtra)', 'route_link': 'https://www.redbus.in/bus-tickets/goa-to-kolhapur-maharashtra', 'bus_name': 'Amrutyog Travels', 'bus_type': 'A/C Sleeper (2+1)', 'departing': '19:15', 'duration': '07h 15m', 'reaching': '02:30', 'rating': '4.4', 'price': '599', 'availability': '10 Seats available'}
value of i: 58
Total Routes on each links {'state_name': 'Kadamba(KTCL)', 'route_name': 'Goa to Kolhapur(Maharashtra)', 'route_link': 'https://www.redbus.in/bus-tickets/goa-to-kolhapur-maharashtra', 'bus_name': 'Laxmi Queen Prime', 'bus_type': 'A/C Sleeper (2+1)', 'departing': '19:30', 'duration': '06h 00m', 'reaching': '01:30', 'rating': '3.9', 'price': '699', 'availability': '7 Seats available'}
value of i: 59
Total Routes on each links {'state_name': 'Kadamba(KTCL)', 'route_name': 'Goa to Kolhapur(Maharashtra)', 'route_link': 'https://www.redbus.in/bus-tickets/goa-to-kolhapur-maharashtra', 'bus_name': '', 'bus_type': '', 'departing': '', 'duration': '', 'reaching': '', 'rating': '', 'price': '', 'availability': ''}
value of i: 60
Total Routes on each links {'state_name': 'Kadamba(KTCL)', 'route_name': 'Goa to Kolhapur(Maharashtra)', 'route_link': 'https://www.redbus.in/bus-tickets/goa-to-kolhapur-maharashtra', 'bus_name': '', 'bus_type': '', 'departing': '', 'duration': '', 'reaching': '', 'rating': '', 'price': '', 'availability': ''}
value of i: 61
Total Routes on each links {'state_name': 'Kadamba(KTCL)', 'route_name': 'Goa to Kolhapur(Maharashtra)', 'route_link': 'https://www.redbus.in/bus-tickets/goa-to-kolhapur-maharashtra', 'bus_name': '', 'bus_type': '', 'departing': '', 'duration': '', 'reaching': '', 'rating': '', 'price': '', 'availability': ''}
value of i: 62
Total Routes on each links {'state_name': 'Kadamba(KTCL)', 'route_name': 'Goa to Kolhapur(Maharashtra)', 'route_link': 'https://www.redbus.in/bus-tickets/goa-to-kolhapur-maharashtra', 'bus_name': '', 'bus_type': '', 'departing': '', 'duration': '', 'reaching': '', 'rating': '', 'price': '', 'availability': ''}
value of i: 63
Total Routes on each links {'state_name': 'Kadamba(KTCL)', 'route_name': 'Goa to Kolhapur(Maharashtra)', 'route_link': 'https://www.redbus.in/bus-tickets/goa-to-kolhapur-maharashtra', 'bus_name': '', 'bus_type': '', 'departing': '', 'duration': '', 'reaching': '', 'rating': '', 'price': '', 'availability': ''}
value of i: 64
Total Routes on each links {'state_name': 'Kadamba(KTCL)', 'route_name': 'Goa to Kolhapur(Maharashtra)', 'route_link': 'https://www.redbus.in/bus-tickets/goa-to-kolhapur-maharashtra', 'bus_name': '', 'bus_type': '', 'departing': '', 'duration': '', 'reaching': '', 'rating': '', 'price': '', 'availability': ''}
value of i: 65
Total Routes on each links {'state_name': 'Kadamba(KTCL)', 'route_name': 'Goa to Kolhapur(Maharashtra)', 'route_link': 'https://www.redbus.in/bus-tickets/goa-to-kolhapur-maharashtra', 'bus_name': '', 'bus_type': '', 'departing': '', 'duration': '', 'reaching': '', 'rating': '', 'price': '', 'availability': ''}
value of i: 66
Total Routes on each links {'state_name': 'Kadamba(KTCL)', 'route_name': 'Goa to Kolhapur(Maharashtra)', 'route_link': 'https://www.redbus.in/bus-tickets/goa-to-kolhapur-maharashtra', 'bus_name': '', 'bus_type': '', 'departing': '', 'duration': '', 'reaching': '', 'rating': '', 'price': '', 'availability': ''}
value of i: 67
Total Routes on each links {'state_name': 'Kadamba(KTCL)', 'route_name': 'Goa to Solapur', 'route_link': 'https://www.redbus.in/bus-tickets/goa-to-solapur', 'bus_name': 'S R Travels', 'bus_type': 'A/C Seater/Sleeper (2+1)', 'departing': '20:30', 'duration': '11h 00m', 'reaching': '07:30', 'rating': '2.4', 'price': '500', 'availability': '14 Seats available'}
value of i: 68
Total Routes on each links {'state_name': 'Kadamba(KTCL)', 'route_name': 'Goa to Solapur', 'route_link': 'https://www.redbus.in/bus-tickets/goa-to-solapur', 'bus_name': 'SR Tours & Travels', 'bus_type': 'A/C Sleeper (2+1)', 'departing': '19:15', 'duration': '09h 35m', 'reaching': '04:50', 'rating': '2.6', 'price': '990', 'availability': '13 Seats available'}
value of i: 69
Total Routes on each links {'state_name': 'Kadamba(KTCL)', 'route_name': 'Goa to Sangola (Solapur)', 'route_link': 'https://www.redbus.in/bus-tickets/goa-to-sangola', 'bus_name': 'Kadamba Transport Corporation Limited (KTCL) - 60996', 'bus_type': 'Non AC Seater 2+2', 'departing': '20:00', 'duration': '10h 05m', 'reaching': '06:05', 'rating': '3.1', 'price': '675', 'availability': '32 Seats available'}
value of i: 70
Total Routes on each links {'state_name': 'Kadamba(KTCL)', 'route_name': 'Goa to Sangola (Solapur)', 'route_link': 'https://www.redbus.in/bus-tickets/goa-to-sangola', 'bus_name': 'SR Tours & Travels', 'bus_type': 'A/C Sleeper (2+1)', 'departing': '19:15', 'duration': '07h 35m', 'reaching': '02:50', 'rating': '2.6', 'price': '900', 'availability': '16 Seats available'}
value of i: 71
Total Routes on each links {'state_name': 'Kadamba(KTCL)', 'route_name': 'Sangola (Solapur) to Goa', 'route_link': 'https://www.redbus.in/bus-tickets/sangola-to-goa', 'bus_name': 'Kadamba Transport Corporation Limited (KTCL) - 61005', 'bus_type': 'Non AC Seater 2+2', 'departing': '21:45', 'duration': '12h 15m', 'reaching': '10:00', 'rating': '2.3', 'price': '675', 'availability': '14 Seats available'}
value of i: 72
Total Routes on each links {'state_name': 'Kadamba(KTCL)', 'route_name': 'Goa to Sangli', 'route_link': 'https://www.redbus.in/bus-tickets/goa-to-sangli', 'bus_name': 'SR Tours & Travels', 'bus_type': 'A/C Sleeper (2+1)', 'departing': '19:15', 'duration': '05h 50m', 'reaching': '01:05', 'rating': '2.6', 'price': '630', 'availability': '13 Seats available'}
value of i: 73
Total Routes on each links {'state_name': 'Kadamba(KTCL)', 'route_name': 'Goa to Miraj', 'route_link': 'https://www.redbus.in/bus-tickets/goa-to-miraj', 'bus_name': 'Kadamba Transport Corporation Limited (KTCL) - 60996', 'bus_type': 'Non AC Seater 2+2', 'departing': '20:00', 'duration': '08h 30m', 'reaching': '04:30', 'rating': '2.5', 'price': '505', 'availability': '26 Seats available'}
value of i: 74
Total Routes on each links {'state_name': 'Kadamba(KTCL)', 'route_name': 'Goa to Miraj', 'route_link': 'https://www.redbus.in/bus-tickets/goa-to-miraj', 'bus_name': 'SR Tours & Travels', 'bus_type': 'A/C Sleeper (2+1)', 'departing': '19:15', 'duration': '06h 05m', 'reaching': '01:20', 'rating': '2.6', 'price': '630', 'availability': '13 Seats available'}
value of i: 75
Total Routes on each links {'state_name': 'Kadamba(KTCL)', 'route_name': 'Shivamogga to Goa', 'route_link': 'https://www.redbus.in/bus-tickets/shimoga-to-goa', 'bus_name': 'Sea Bird Tourist', 'bus_type': 'NON A/C Sleeper (2+1)', 'departing': '23:45', 'duration': '08h 15m', 'reaching': '08:00', 'rating': '4.5', 'price': '900', 'availability': '1 Seat available'}
value of i: 76
Total Routes on each links {'state_name': 'Kadamba(KTCL)', 'route_name': 'Goa to Satara', 'route_link': 'https://www.redbus.in/bus-tickets/goa-to-satara', 'bus_name': 'Atmaram Gobus', 'bus_type': 'VE A/C Sleeper (2+1)', 'departing': '22:30', 'duration': '07h 40m', 'reaching': '06:10', 'rating': '4.8', 'price': '601', 'availability': '14 Seats available'}
value of i: 77
Total Routes on each links {'state_name': 'Kadamba(KTCL)', 'route_name': 'Goa to Satara', 'route_link': 'https://www.redbus.in/bus-tickets/goa-to-satara', 'bus_name': 'Ashray Travels', 'bus_type': '', 'departing': '21:00', 'duration': '09h 30m', 'reaching': '06:30', 'rating': '4.2', 'price': '', 'availability': ''}
value of i: 78
Total Routes on each links {'state_name': 'Kadamba(KTCL)', 'route_name': 'Goa to Satara', 'route_link': 'https://www.redbus.in/bus-tickets/goa-to-satara', 'bus_name': '', 'bus_type': '', 'departing': '', 'duration': '', 'reaching': '', 'rating': '', 'price': '', 'availability': ''}
value of i: 79
Total Routes on each links {'state_name': 'Kadamba(KTCL)', 'route_name': 'Goa to Satara', 'route_link': 'https://www.redbus.in/bus-tickets/goa-to-satara', 'bus_name': '', 'bus_type': '', 'departing': '', 'duration': '', 'reaching': '', 'rating': '', 'price': '', 'availability': ''}
value of i: 80
Total Routes on each links {'state_name': 'Kadamba(KTCL)', 'route_name': 'Goa to Satara', 'route_link': 'https://www.redbus.in/bus-tickets/goa-to-satara', 'bus_name': '', 'bus_type': '', 'departing': '', 'duration': '', 'reaching': '', 'rating': '', 'price': '', 'availability': ''}
value of i: 81
Total Routes on each links {'state_name': 'Kadamba(KTCL)', 'route_name': 'Goa to Satara', 'route_link': 'https://www.redbus.in/bus-tickets/goa-to-satara', 'bus_name': '', 'bus_type': '', 'departing': '', 'duration': '', 'reaching': '', 'rating': '', 'price': '', 'availability': ''}
value of i: 82
Total Routes on each links {'state_name': 'Kadamba(KTCL)', 'route_name': 'Goa to Satara', 'route_link': 'https://www.redbus.in/bus-tickets/goa-to-satara', 'bus_name': '', 'bus_type': '', 'departing': '', 'duration': '', 'reaching': '', 'rating': '', 'price': '', 'availability': ''}
value of i: 83
Total Routes on each links {'state_name': 'Kadamba(KTCL)', 'route_name': 'Goa to Satara', 'route_link': 'https://www.redbus.in/bus-tickets/goa-to-satara', 'bus_name': '', 'bus_type': '', 'departing': '', 'duration': '', 'reaching': '', 'rating': '', 'price': '', 'availability': ''}
value of i: 84
Total Routes on each links {'state_name': 'Kadamba(KTCL)', 'route_name': 'Goa to Satara', 'route_link': 'https://www.redbus.in/bus-tickets/goa-to-satara', 'bus_name': '', 'bus_type': '', 'departing': '', 'duration': '', 'reaching': '', 'rating': '', 'price': '', 'availability': ''}
value of i: 85
Total Routes on each links {'state_name': 'Kadamba(KTCL)', 'route_name': 'Goa to Satara', 'route_link': 'https://www.redbus.in/bus-tickets/goa-to-satara', 'bus_name': '', 'bus_type': '', 'departing': '', 'duration': '', 'reaching': '', 'rating': '', 'price': '', 'availability': ''}
value of i: 86
Total Routes on each links {'state_name': 'Kadamba(KTCL)', 'route_name': 'Goa to Shivamogga', 'route_link': 'https://www.redbus.in/bus-tickets/goa-to-shimoga', 'bus_name': 'Sea Bird Tourist', 'bus_type': 'NON A/C Sleeper (2+1)', 'departing': '19:15', 'duration': '07h 15m', 'reaching': '02:30', 'rating': '4.1', 'price': '800', 'availability': '26 Seats available'}
         state_name              route_name  \
0            kerala  Bangalore to Kozhikode   
1            kerala  Bangalore to Kozhikode   
2            kerala  Bangalore to Kozhikode   
3            kerala  Bangalore to Kozhikode   
4            kerala  Bangalore to Kozhikode   
...             ...                     ...   
1042  Kadamba(KTCL)           Goa to Satara   
1043  Kadamba(KTCL)           Goa to Satara   
1044  Kadamba(KTCL)           Goa to Satara   
1045  Kadamba(KTCL)           Goa to Satara   
1046  Kadamba(KTCL)       Goa to Shivamogga   

                                             route_link             bus_name  \
0     https://www.redbus.in/bus-tickets/bangalore-to...  Silver Line Travels   
1     https://www.redbus.in/bus-tickets/bangalore-to...          MMK Travels   
2     https://www.redbus.in/bus-tickets/bangalore-to...        Kyros Connect   
3     https://www.redbus.in/bus-tickets/bangalore-to...     AdSuraj Holidays   
4     https://www.redbus.in/bus-tickets/bangalore-to...        NS Transports   
...                                                 ...                  ...   
1042    https://www.redbus.in/bus-tickets/goa-to-satara                        
1043    https://www.redbus.in/bus-tickets/goa-to-satara                        
1044    https://www.redbus.in/bus-tickets/goa-to-satara                        
1045    https://www.redbus.in/bus-tickets/goa-to-satara                        
1046   https://www.redbus.in/bus-tickets/goa-to-shimoga     Sea Bird Tourist   

                                bus_type departing duration reaching rating  \
0             NON A/C Semi Sleeper (2+2)     22:00  08h 10m    06:10    4.5   
1          VE A/C Seater / Sleeper (2+1)     22:30  09h 00m    07:30    4.4   
2     Bharat Benz A/C Semi Sleeper (2+2)     23:00  10h 00m    09:00    4.2   
3                   VE A/C Sleeper (2+1)     22:30  09h 00m    07:30    3.9   
4         Non A/C Seater / Sleeper (2+1)     21:45  08h 25m    06:10    4.2   
...                                  ...       ...      ...      ...    ...   
1042                                                                          
1043                                                                          
1044                                                                          
1045                                                                          
1046               NON A/C Sleeper (2+1)     19:15  07h 15m    02:30    4.1   

     price        availability  
0      599  30 Seats available  
1      700  12 Seats available  
2      599  12 Seats available  
3     1050   7 Seats available  
4      699   5 Seats available  
...    ...                 ...  
1042                            
1043                            
1044                            
1045                            
1046   800  26 Seats available  

[1047 rows x 11 columns]

BIHAR:
import time
import pandas as pd
import streamlit as st
from selenium import webdriver
from selenium.webdriver.common.by import By
from selenium.common.exceptions import NoSuchElementException
from selenium.common.exceptions import TimeoutException
from selenium.webdriver.support.ui import WebDriverWait
from selenium.webdriver.support import expected_conditions as EC
driver = webdriver.Chrome()  # Optional argument, if not specified will search path.\n",
driver.get('https://www.redbus.in/')
time.sleep(5)
driver.maximize_window()
driver.execute_script("window.scrollBy(0, 650)")
view_all = driver.find_element(By.CSS_SELECTOR, 'a[href="https://www.redbus.in/online-booking/rtc-directory"]')
view_all.click()
driver.get("https://www.redbus.in/online-booking/bihar-state-road-transport-corporation-bsrtc/?utm_source=rtchometile")
driver.maximize_window()
time.sleep(3)
driver.execute_script("window.scrollBy(0, window.innerHeight)")
driver.execute_script("window.scrollBy(0, window.innerHeight)")
driver.execute_script("window.scrollBy(0, window.innerHeight)")
bihar_route_names = []
bihar_route_links = []

def scrape_data():
  route_names = driver.find_elements(By.CLASS_NAME, "route")
  for route_name in route_names:
      bihar_route_names.append(route_name.text)

  route_links = driver.find_elements(By.CLASS_NAME, "route")
  hrefs = [route_link.get_attribute('href') for route_link in route_links]
  for href in hrefs:
      bihar_route_links.append(href)

page_tabs = driver.find_elements(By.CLASS_NAME, "DC_117_pageTabs")
for i in range(len(page_tabs)):
    if i > 0:
           page_tabs = driver.find_elements(By.CLASS_NAME, "DC_117_pageTabs")[i]
           driver.execute_script("arguments[0].click();", page_tabs) 
           time.sleep(4)
    scrape_data()

df1=pd.DataFrame()
df_links= []
trial = []
seenlink = []
route_name = []
route_link = []
dict = {} 
count = 0
for link in bihar_route_links:
    driver.get(link)
    driver.maximize_window()
    if link not in seenlink:
        seenlink.append(link)
        try:
           wait = WebDriverWait(driver,3)
           wait_button = wait.until(EC.presence_of_element_located((By.CLASS_NAME, "button")))
           wait_button = wait.until(EC.element_to_be_clickable((By.ID, "result-section" )))
           driver.execute_script("arguments[0].click();", wait_button)
        except NoSuchElementException:
           pass
        except TimeoutException:
           pass    
    
        for t in range(22):     #scrolling 22 times so that whole website loads
           driver.execute_script("window.scrollBy(0, 650);")
           time.sleep(0.5)
        names = driver.find_elements(By.CLASS_NAME,"travels")
        types = driver.find_elements(By.CLASS_NAME,"bus-type")
        depart_timings = driver.find_elements(By.CLASS_NAME,"dp-time")
        travel_durations = driver.find_elements(By.CLASS_NAME,"dur")
        arrivals = driver.find_elements(By.CLASS_NAME,"bp-time")
        star_ratings = driver.find_elements(By.CLASS_NAME,"column-six")
        fares = driver.find_elements(By.CLASS_NAME,"fare")
        seats_available = driver.find_elements(By.CLASS_NAME,"seat-left")
        bus_name = []
        bus_type = []
        departing = []
        duration = []
        reaching = []
        rating = []
        price = []
        availability = []

        list(bus_name.append(i.text) for i in names)
        list(bus_type.append(i.text) for i in types)
        list(departing.append(i.text) for i in depart_timings)
        list(duration.append(i.text) for i in travel_durations)
        list(reaching.append(i.text) for i in arrivals)
        list(rating.append(i.text[:3]) for i in star_ratings)
        for fare in fares:
            if (fare.text).isdigit():
                price.append(fare.text)
            else:
                price.append((fare.text).replace('INR','').strip())
        list(availability.append(i.text) for i in seats_available)
        time.sleep(3)
        #remove duplicates on the names 
        #print("range of bus_name for link:",range(len(bus_name)))
        #print("link:",link)
        for i in range(len(bus_name)):
            dict={'state_name':"Bihar(BSRTC)",'route_name':bihar_route_names[count], 'route_link':link, 'bus_name':bus_name[i], 'bus_type':bus_type[i], 'departing':departing[i], 
                           'duration':duration[i], 'reaching':reaching[i], 'rating':rating[i], 'price':price[i], 'availability':availability[i]}
            df_links.append(dict)
    else:
         print("already seen")
    count = count +1

print("count =:",count)
for i in range(len(df_links)):
   print("value of i:",i)
   print("Total Routes on each links",df_links[i])

df1=pd.DataFrame(df_links)
df=pd.concat([df,df1],ignore_index=True)

df.to_csv('Bihar.csv', index=False)
print(df)
import time
import pandas as pd
import streamlit as st
from selenium import webdriver
from selenium.webdriver.common.by import By
from selenium.common.exceptions import NoSuchElementException
from selenium.common.exceptions import TimeoutException
from selenium.webdriver.support.ui import WebDriverWait
from selenium.webdriver.support import expected_conditions as EC
driver = webdriver.Chrome()  # Optional argument, if not specified will search path.\n",
driver.get('https://www.redbus.in/')
time.sleep(5)
driver.maximize_window()
driver.execute_script("window.scrollBy(0, 650)")
view_all = driver.find_element(By.CSS_SELECTOR, 'a[href="https://www.redbus.in/online-booking/rtc-directory"]')
view_all.click()
driver.get("https://www.redbus.in/online-booking/rsrtc/?utm_source=rtchometile")
driver.maximize_window()
#RSRTC = driver.find_element(By.CLASS_NAME, 'a[href="/online-booking/rsrtc"]')
#RSRTC.click()
time.sleep(3)
driver.execute_script("window.scrollBy(0, window.innerHeight)")
driver.execute_script("window.scrollBy(0, window.innerHeight)")
driver.execute_script("window.scrollBy(0, window.innerHeight)")
rajasthan_route_names = []
rajasthan_route_links = []

def scrape_data():
  route_names = driver.find_elements(By.CLASS_NAME, "route")
  for route_name in route_names:
      rajasthan_route_names.append(route_name.text)

  route_links = driver.find_elements(By.CLASS_NAME, "route")
  hrefs = [route_link.get_attribute('href') for route_link in route_links]
  for href in hrefs:
      rajasthan_route_links.append(href)

page_tabs = driver.find_elements(By.CLASS_NAME, "DC_117_pageTabs")
for i in range(len(page_tabs)):
    if i > 0:
           page_tabs = driver.find_elements(By.CLASS_NAME, "DC_117_pageTabs")[i]
           driver.execute_script("arguments[0].click();", page_tabs) 
           time.sleep(4)
    scrape_data()

    
df1=pd.DataFrame()
df_links= []
trial = []
seenlink = []
route_name = []
route_link = []
dict = {} 
count = 0
for link in rajasthan_route_links:
    driver.get(link)
    driver.maximize_window()
    if link not in seenlink:
        seenlink.append(link)
        try:
           wait = WebDriverWait(driver,3)
           wait_button = wait.until(EC.presence_of_element_located((By.CLASS_NAME, "button")))
           wait_button = wait.until(EC.element_to_be_clickable((By.ID, "result-section")))
           driver.execute_script("arguments[0].click();", wait_button)
           
        except NoSuchElementException:
           pass
        except TimeoutException:
           pass    
    
        for t in range(22):     #scrolling 22 times so that whole website loads
           driver.execute_script("window.scrollBy(0, 650);")
           time.sleep(0.5)
        names = driver.find_elements(By.CLASS_NAME,"travels")
        types = driver.find_elements(By.CLASS_NAME,"bus-type")
        depart_timings = driver.find_elements(By.CLASS_NAME,"dp-time")
        travel_durations = driver.find_elements(By.CLASS_NAME,"dur")
        arrivals = driver.find_elements(By.CLASS_NAME,"bp-time")
        star_ratings = driver.find_elements(By.CLASS_NAME,"column-six")
        fares = driver.find_elements(By.CLASS_NAME,"fare")
        seats_available = driver.find_elements(By.CLASS_NAME,"seat-left")
        bus_name = []
        bus_type = []
        departing = []
        duration = []
        reaching = []
        rating = []
        price = []
        availability = []

        list(bus_name.append(i.text) for i in names)
        list(bus_type.append(i.text) for i in types)
        list(departing.append(i.text) for i in depart_timings)
        list(duration.append(i.text) for i in travel_durations)
        list(reaching.append(i.text) for i in arrivals)
        list(rating.append(i.text[:3]) for i in star_ratings)
        for fare in fares:
            if (fare.text).isdigit():
                price.append(fare.text)
            else:
                price.append((fare.text).replace('INR','').strip())
        list(availability.append(i.text) for i in seats_available)
        time.sleep(3)
        #remove duplicates on the names 
        #print("range of bus_name for link:",range(len(bus_name)))
        #print("link:",link)
        for i in range(len(bus_name)):
            dict={'state_name':"Rajasthan(RSRTC)",'route_name':rajasthan_route_names[count], 'route_link':link, 'bus_name':bus_name[i], 'bus_type':bus_type[i], 'departing':departing[i], 
                           'duration':duration[i], 'reaching':reaching[i], 'rating':rating[i], 'price':price[i], 'availability':availability[i]}
            df_links.append(dict)
    else:
         print("already seen")
    count = count +1

print("count =:",count)
for i in range(len(df_links)):
   print("value of i:",i)
   print("Total Routes on each links",df_links[i])

df1=pd.DataFrame(df_links)
df=pd.concat([df,df1],ignore_index=True)

df.to_csv('Rajasthan.csv', index=False)
print(df)

SOUTHBENGAL:
import time
import pandas as pd
import streamlit as st
from selenium import webdriver
from selenium.webdriver.common.by import By
from selenium.common.exceptions import NoSuchElementException
from selenium.common.exceptions import TimeoutException
from selenium.webdriver.support.ui import WebDriverWait
from selenium.webdriver.support import expected_conditions as EC
driver = webdriver.Chrome()  # Optional argument, if not specified will search path.\n",
driver.get('https://www.redbus.in/')
time.sleep(5)
driver.maximize_window()
driver.execute_script("window.scrollBy(0, 650)")
view_all = driver.find_element(By.CSS_SELECTOR, 'a[href="https://www.redbus.in/online-booking/rtc-directory"]')
view_all.click()
driver.get("https://www.redbus.in/online-booking/south-bengal-state-transport-corporation-sbstc/?utm_source=rtchometile")
driver.maximize_window()
time.sleep(3)
driver.execute_script("window.scrollBy(0, window.innerHeight)")
driver.execute_script("window.scrollBy(0, window.innerHeight)")
driver.execute_script("window.scrollBy(0, window.innerHeight)")
southbengal_route_names = []
southbengal_route_links = []

def scrape_data():
  route_names = driver.find_elements(By.CLASS_NAME, "route")
  for route_name in route_names:
      southbengal_route_names.append(route_name.text)

  route_links = driver.find_elements(By.CLASS_NAME, "route")
  hrefs = [route_link.get_attribute('href') for route_link in route_links]
  for href in hrefs:
      southbengal_route_links.append(href)

page_tabs = driver.find_elements(By.CLASS_NAME, "DC_117_pageTabs")
for i in range(len(page_tabs)):
    if i > 0:
           page_tabs = driver.find_elements(By.CLASS_NAME, "DC_117_pageTabs")[i]
           driver.execute_script("arguments[0].click();", page_tabs) 
           time.sleep(4)
    scrape_data()



df1=pd.DataFrame()
df_links= []
trial = []
seenlink = []
route_name = []
route_link = []
dict = {} 
count = 0
for link in southbengal_route_links:
    driver.get(link)
    driver.maximize_window()
    if link not in seenlink:
        seenlink.append(link)
        try:
           wait = WebDriverWait(driver,3)
           wait_button = wait.until(EC.presence_of_element_located((By.CLASS_NAME, "button")))
           wait_button = wait.until(EC.element_to_be_clickable((By.ID, "result-section")))
           driver.execute_script("arguments[0].click();", wait_button)
        except NoSuchElementException:
           pass
        except TimeoutException:
           pass    
    
        for t in range(22):     #scrolling 22 times so that whole website loads
           driver.execute_script("window.scrollBy(0, 650);")
           time.sleep(0.5)
        names = driver.find_elements(By.CLASS_NAME,"travels")
        types = driver.find_elements(By.CLASS_NAME,"bus-type")
        depart_timings = driver.find_elements(By.CLASS_NAME,"dp-time")
        travel_durations = driver.find_elements(By.CLASS_NAME,"dur")
        arrivals = driver.find_elements(By.CLASS_NAME,"bp-time")
        star_ratings = driver.find_elements(By.CLASS_NAME,"column-six")
        fares = driver.find_elements(By.CLASS_NAME,"fare")
        seats_available = driver.find_elements(By.CLASS_NAME,"seat-left")
        bus_name = []
        bus_type = []
        departing = []
        duration = []
        reaching = []
        rating = []
        price = []
        availability = []

        list(bus_name.append(i.text) for i in names)
        list(bus_type.append(i.text) for i in types)
        list(departing.append(i.text) for i in depart_timings)
        list(duration.append(i.text) for i in travel_durations)
        list(reaching.append(i.text) for i in arrivals)
        list(rating.append(i.text[:3]) for i in star_ratings)
        for fare in fares:
            if (fare.text).isdigit():
                price.append(fare.text)
            else:
                price.append((fare.text).replace('INR','').strip())
        list(availability.append(i.text) for i in seats_available)
        time.sleep(3)
        #remove duplicates on the names 
        print("range of bus_name for link:",range(len(bus_name)))
        print("link:",link)
        for i in range(len(bus_name)):
            dict={'state_name':"Southbengal(SBSTC)",'route_name':southbengal_route_names[count], 'route_link':link, 'bus_name':bus_name[i], 'bus_type':bus_type[i], 'departing':departing[i], 
                           'duration':duration[i], 'reaching':reaching[i], 'rating':rating[i], 'price':price[i], 'availability':availability[i]}
            df_links.append(dict)
    else:
         print("already seen")
    count = count +1

print("count =:",count)
#for i in range(len(df_links)):
   #print("value of i:",i)
   #print("Total Routes on each links",df_links[i])

df1=pd.DataFrame(df_links)
df=pd.concat([df,df1],ignore_index=True)

df.to_csv('Southbengal.csv', index=False)
print(df)

Himachal Pradesh:
import time
import pandas as pd
import streamlit as st
from selenium import webdriver
from selenium.webdriver.common.by import By
from selenium.common.exceptions import NoSuchElementException
from selenium.common.exceptions import TimeoutException
from selenium.webdriver.support.ui import WebDriverWait
from selenium.webdriver.support import expected_conditions as EC
driver = webdriver.Chrome()  # Optional argument, if not specified will search path.\n",
driver.get('https://www.redbus.in/')
time.sleep(5)
driver.maximize_window()
driver.execute_script("window.scrollBy(0, 650)")
view_all = driver.find_element(By.CSS_SELECTOR, 'a[href="https://www.redbus.in/online-booking/rtc-directory"]')
view_all.click()
driver.get("https://www.redbus.in/online-booking/hrtc/?utm_source=rtchometile")
driver.maximize_window()
time.sleep(3)
driver.execute_script("window.scrollBy(0, window.innerHeight)")
driver.execute_script("window.scrollBy(0, window.innerHeight)")
driver.execute_script("window.scrollBy(0, window.innerHeight)")
himachal_route_names = []
himachal_route_links = []
def scrape_data():
  route_names = driver.find_elements(By.CLASS_NAME, "route")
  for route_name in route_names:
      himachal_route_names.append(route_name.text)

  route_links = driver.find_elements(By.CLASS_NAME, "route")
  hrefs = [route_link.get_attribute('href') for route_link in route_links]
  for href in hrefs:
      himachal_route_links.append(href)

page_tabs = driver.find_elements(By.CLASS_NAME, "DC_117_pageTabs")
for i in range(len(page_tabs)):
    if i > 0:
           page_tabs = driver.find_elements(By.CLASS_NAME, "DC_117_pageTabs")[i]
           driver.execute_script("arguments[0].click();", page_tabs) 
           time.sleep(4)
    scrape_data()

df1=pd.DataFrame()
df_links= []
trial = []
seenlink = []
route_name = []
route_link = []
dict = {} 
count = 0
for link in himachal_route_links:
    driver.get(link)
    driver.maximize_window()

    if link not in seenlink:
        seenlink.append(link)
        try:
           wait = WebDriverWait(driver,3)
           wait_button = wait.until(EC.presence_of_element_located((By.CLASS_NAME, "button")))
           wait_button = wait.until(EC.element_to_be_clickable((By.ID, "result-section")))
           driver.execute_script("arguments[0].click();", wait_button)
        except NoSuchElementException:
           pass
        except TimeoutException:
           pass    
    
        for t in range(22):     #scrolling 22 times so that whole website loads
           driver.execute_script("window.scrollBy(0, 650);")
           time.sleep(0.5)
        names = driver.find_elements(By.CLASS_NAME,"travels")
        types = driver.find_elements(By.CLASS_NAME,"bus-type")
        depart_timings = driver.find_elements(By.CLASS_NAME,"dp-time")
        travel_durations = driver.find_elements(By.CLASS_NAME,"dur")
        arrivals = driver.find_elements(By.CLASS_NAME,"bp-time")
        star_ratings = driver.find_elements(By.CLASS_NAME,"column-six")
        fares = driver.find_elements(By.CLASS_NAME,"fare")
        seats_available = driver.find_elements(By.CLASS_NAME,"seat-left")
        bus_name = []
        bus_type = []
        departing = []
        duration = []
        reaching = []
        rating = []
        price = []
        availability = []

        list(bus_name.append(i.text) for i in names)
        list(bus_type.append(i.text) for i in types)
        list(departing.append(i.text) for i in depart_timings)
        list(duration.append(i.text) for i in travel_durations)
        list(reaching.append(i.text) for i in arrivals)
        list(rating.append(i.text[:3]) for i in star_ratings)
        for fare in fares:
            if (fare.text).isdigit():
                price.append(fare.text)
            else:
                price.append((fare.text).replace('INR','').strip())
        list(availability.append(i.text) for i in seats_available)
        time.sleep(3)
        #remove duplicates on the names 
        #print("range of bus_name for link:",range(len(bus_name)))
        #print("link:",link)
        for i in range(len(bus_name)):
            dict={'state_name':"Himachal(HPTDC)",'route_name':himachal_route_names[count], 'route_link':link, 'bus_name':bus_name[i], 'bus_type':bus_type[i], 'departing':departing[i], 
                           'duration':duration[i], 'reaching':reaching[i], 'rating':rating[i], 'price':price[i], 'availability':availability[i]}
            df_links.append(dict)
    else:
         print("already seen")
    count = count +1

#print("count =:",count)
#for i in range(len(df_links)):
   #print("value of i:",i)
   #print("Total Routes on each links",df_links[i])

df1=pd.DataFrame(df_links)
df=pd.concat([df,df1],ignore_index=True)

df.to_csv('Himachal.csv', index=False)
#print(df)


import time
import pandas as pd
import streamlit as st
from selenium import webdriver
from selenium.webdriver.common.by import By
from selenium.common.exceptions import NoSuchElementException
from selenium.common.exceptions import TimeoutException
from selenium.webdriver.support.ui import WebDriverWait
from selenium.webdriver.support import expected_conditions as EC
driver = webdriver.Chrome()  # Optional argument, if not specified will search path.\n",
driver.get('https://www.redbus.in/')
time.sleep(5)
driver.maximize_window()
driver.execute_script("window.scrollBy(0, 650)")
view_all = driver.find_element(By.CSS_SELECTOR, 'a[href="https://www.redbus.in/online-booking/rtc-directory"]')
view_all.click()
driver.get("https://www.redbus.in/online-booking/astc/?utm_source=rtchometile")
driver.maximize_window()
time.sleep(3)
driver.execute_script("window.scrollBy(0, window.innerHeight)")
driver.execute_script("window.scrollBy(0, window.innerHeight)")
driver.execute_script("window.scrollBy(0, window.innerHeight)")
assam_route_names = []
assam_route_links = []

def scrape_data():
  route_names = driver.find_elements(By.CLASS_NAME, "route")
  for route_name in route_names:
      assam_route_names.append(route_name.text)

  route_links = driver.find_elements(By.CLASS_NAME, "route")
  hrefs = [route_link.get_attribute('href') for route_link in route_links]
  for href in hrefs:
      assam_route_links.append(href)

page_tabs = driver.find_elements(By.CLASS_NAME, "DC_117_pageTabs")
for i in range(len(page_tabs)):
    if i > 0:
           page_tabs = driver.find_elements(By.CLASS_NAME, "DC_117_pageTabs")[i]
           driver.execute_script("arguments[0].click();", page_tabs) 
           time.sleep(4)
    scrape_data()

df1=pd.DataFrame()
df_links= []
trial = []
seenlink = []
route_name = []
route_link = []
dict = {} 
count = 0
for link in assam_route_links:
    driver.get(link)
    driver.maximize_window()
    if link not in seenlink:
        seenlink.append(link)
        try:
           wait = WebDriverWait(driver,3)
           wait_button = wait.until(EC.presence_of_element_located((By.CLASS_NAME, "button")))
           wait_button = wait.until(EC.element_to_be_clickable((By.ID, "result-section")))
           driver.execute_script("arguments[0].click();", wait_button)
        except NoSuchElementException:
           pass
        except TimeoutException:
           pass    
    
        for t in range(22):     
           driver.execute_script("window.scrollBy(0, 650);")
           time.sleep(0.5)
        names = driver.find_elements(By.CLASS_NAME,"travels")
        types = driver.find_elements(By.CLASS_NAME,"bus-type")
        depart_timings = driver.find_elements(By.CLASS_NAME,"dp-time")
        travel_durations = driver.find_elements(By.CLASS_NAME,"dur")
        arrivals = driver.find_elements(By.CLASS_NAME,"bp-time")
        star_ratings = driver.find_elements(By.CLASS_NAME,"column-six")
        fares = driver.find_elements(By.CLASS_NAME,"fare")
        seats_available = driver.find_elements(By.CLASS_NAME,"seat-left")
        bus_name = []
        bus_type = []
        departing = []
        duration = []
        reaching = []
        rating = []
        price = []
        availability = []

        list(bus_name.append(i.text) for i in names)
        list(bus_type.append(i.text) for i in types)
        list(departing.append(i.text) for i in depart_timings)
        list(duration.append(i.text) for i in travel_durations)
        list(reaching.append(i.text) for i in arrivals)
        list(rating.append(i.text[:3]) for i in star_ratings)
        for fare in fares:
            if (fare.text).isdigit():
                price.append(fare.text)
            else:
                price.append((fare.text).replace('INR','').strip())
        list(availability.append(i.text) for i in seats_available)
        time.sleep(3)
        #remove duplicates on the names 
        print("range of bus_name for link:",range(len(bus_name)))
        print("link:",link)
        for i in range(len(bus_name)):
            dict={'state_name':"Assam(ASTC)",'route_name':assam_route_names[count], 'route_link':link, 'bus_name':bus_name[i], 'bus_type':bus_type[i], 'departing':departing[i], 
                           'duration':duration[i], 'reaching':reaching[i], 'rating':rating[i], 'price':price[i], 'availability':availability[i]}
            df_links.append(dict)
    else:
         print("already seen")
    count = count +1

print("count =:",count)
for i in range(len(df_links)):
   print("value of i:",i)
   print("Total Routes on each links",df_links[i])

df1=pd.DataFrame(df_links)
df=pd.concat([df,df1],ignore_index=True)

df.to_csv('Assam.csv', index=False)
print(df)
Chandigarh:

import time
import pandas as pd
import streamlit as st
from selenium import webdriver
from selenium.webdriver.common.by import By
from selenium.common.exceptions import NoSuchElementException
from selenium.common.exceptions import TimeoutException
from selenium.webdriver.support.ui import WebDriverWait
from selenium.webdriver.support import expected_conditions as EC
driver = webdriver.Chrome()  # Optional argument, if not specified will search path.\n",
driver.get('https://www.redbus.in/')
time.sleep(5)
driver.maximize_window()
driver.execute_script("window.scrollBy(0, 650)")
view_all = driver.find_element(By.CSS_SELECTOR, 'a[href="https://www.redbus.in/online-booking/rtc-directory"]')
view_all.click()
driver.get("https://www.redbus.in/online-booking/chandigarh-transport-undertaking-ctu")
driver.maximize_window()
time.sleep(3)
driver.execute_script("window.scrollBy(0, window.innerHeight)")
driver.execute_script("window.scrollBy(0, window.innerHeight)")
driver.execute_script("window.scrollBy(0, window.innerHeight)")
chandigarh_route_names = []
chandigarh_route_links = []
def scrape_data():
  route_names = driver.find_elements(By.CLASS_NAME, "route")
  for route_name in route_names:
      chandigarh_route_names.append(route_name.text)

  route_links = driver.find_elements(By.CLASS_NAME, "route")
  hrefs = [route_link.get_attribute('href') for route_link in route_links]
  for href in hrefs:
      chandigarh_route_links.append(href)

page_tabs = driver.find_elements(By.CLASS_NAME, "DC_117_pageTabs")
for i in range(len(page_tabs)):
    if i > 0:
           page_tabs = driver.find_elements(By.CLASS_NAME, "DC_117_pageTabs")[i]
           driver.execute_script("arguments[0].click();", page_tabs) 
           time.sleep(4)
    scrape_data()

df1=pd.DataFrame()
df_links= []
trial = []
seenlink = []
route_name = []
route_link = []
dict = {} 
count = 0
for link in chandigarh_route_links:
    driver.get(link)
    driver.maximize_window()
    if link not in seenlink:
        seenlink.append(link)
        try:
           wait = WebDriverWait(driver,3)
           wait_button = wait.until(EC.presence_of_element_located((By.CLASS_NAME, "button")))
           wait_button = wait.until(EC.element_to_be_clickable((By.ID, "result-section")))
           driver.execute_script("arguments[0].click();", wait_button)
        except NoSuchElementException:
           pass
        except TimeoutException:
           pass    
    
        for t in range(22):     #scrolling 22 times so that whole website loads
           driver.execute_script("window.scrollBy(0, 650);")
           time.sleep(0.5)
        names = driver.find_elements(By.CLASS_NAME,"travels")
        types = driver.find_elements(By.CLASS_NAME,"bus-type")
        depart_timings = driver.find_elements(By.CLASS_NAME,"dp-time")
        travel_durations = driver.find_elements(By.CLASS_NAME,"dur")
        arrivals = driver.find_elements(By.CLASS_NAME,"bp-time")
        star_ratings = driver.find_elements(By.CLASS_NAME,"column-six")
        fares = driver.find_elements(By.CLASS_NAME,"fare")
        seats_available = driver.find_elements(By.CLASS_NAME,"seat-left")
        bus_name = []
        bus_type = []
        departing = []
        duration = []
        reaching = []
        rating = []
        price = []
        availability = []

        list(bus_name.append(i.text) for i in names)
        list(bus_type.append(i.text) for i in types)
        list(departing.append(i.text) for i in depart_timings)
        list(duration.append(i.text) for i in travel_durations)
        list(reaching.append(i.text) for i in arrivals)
        list(rating.append(i.text[:3]) for i in star_ratings)
        for fare in fares:
            if (fare.text).isdigit():
                price.append(fare.text)
            else:
                price.append((fare.text).replace('INR','').strip())
        list(availability.append(i.text) for i in seats_available)
        time.sleep(3)
        #remove duplicates on the names 
        print("range of bus_name for link:",range(len(bus_name)))
        print("link:",link)
        for i in range(len(bus_name)):
            dict={'state_name': "Chandigarh(CTU)",'route_name':chandigarh_route_names[count], 'route_link':link, 'bus_name':bus_name[i], 'bus_type':bus_type[i], 'departing':departing[i], 
                           'duration':duration[i], 'reaching':reaching[i], 'rating':rating[i], 'price':price[i], 'availability':availability[i]}
            df_links.append(dict)
    else:
         print("already seen")
    count = count +1

print("count =:",count)
for i in range(len(df_links)):
   print("value of i:",i)
   print("Total Routes on each links",df_links[i])

df1=pd.DataFrame(df_links)
df=pd.concat([df,df1],ignore_index=True)

df.to_csv('Chandigarh.csv', index=False)

Uttarpradesh:

import time
import pandas as pd
import streamlit as st
from selenium import webdriver
from selenium.webdriver.common.by import By
from selenium.common.exceptions import NoSuchElementException
from selenium.common.exceptions import TimeoutException
from selenium.webdriver.support.ui import WebDriverWait
from selenium.webdriver.support import expected_conditions as EC
driver = webdriver.Chrome()  
driver.get('https://www.redbus.in/')
time.sleep(5)
driver.maximize_window()
driver.execute_script("window.scrollBy(0, 650)")
view_all = driver.find_element(By.CSS_SELECTOR, 'a[href="https://www.redbus.in/online-booking/rtc-directory"]')
view_all.click()
driver.get("https://www.redbus.in/online-booking/uttar-pradesh-state-road-transport-corporation-upsrtc/?utm_source=rtchometile")
driver.maximize_window()
time.sleep(3)
driver.execute_script("window.scrollBy(0, window.innerHeight)")
driver.execute_script("window.scrollBy(0, window.innerHeight)")
driver.execute_script("window.scrollBy(0, window.innerHeight)")
up_route_names = []
up_route_links = []


def scrape_data():
  route_names = driver.find_elements(By.CLASS_NAME, "route")
  for route_name in route_names:
      up_route_names.append(route_name.text)

  route_links = driver.find_elements(By.CLASS_NAME, "route")
  hrefs = [route_link.get_attribute('href') for route_link in route_links]
  for href in hrefs:
      up_route_links.append(href)

page_tabs = driver.find_elements(By.CLASS_NAME, "DC_117_pageTabs")
for i in range(len(page_tabs)):
    if i > 0:
           page_tabs = driver.find_elements(By.CLASS_NAME, "DC_117_pageTabs")[i]
           driver.execute_script("arguments[0].click();", page_tabs) 
           time.sleep(4)
    scrape_data()
print(up_route_names)


df_links= []
trial = []
seenlink = []
route_name = []
route_link = []
dict = {} 
df=pd.DataFrame()
count = 0
for link in up_route_links:
    driver.get(link)
    driver.maximize_window()
    if link not in seenlink:
        seenlink.append(link)
        try:
           wait = WebDriverWait(driver,3)
           wait_button = wait.until(EC.presence_of_element_located((By.CLASS_NAME, "button")))
           wait_button = wait.until(EC.element_to_be_clickable((By.ID, "result-section")))
           driver.execute_script("arguments[0].click();", wait_button)
        except NoSuchElementException:
           pass
        except TimeoutException:
           pass    
    
        for t in range(22):     #scrolling 22 times so that whole website loads
           driver.execute_script("window.scrollBy(0, 650);")
           time.sleep(0.5)
        names = driver.find_elements(By.CLASS_NAME,"travels")
        types = driver.find_elements(By.CLASS_NAME,"bus-type")
        depart_timings = driver.find_elements(By.CLASS_NAME,"dp-time")
        travel_durations = driver.find_elements(By.CLASS_NAME,"dur")
        arrivals = driver.find_elements(By.CLASS_NAME,"bp-time")
        star_ratings = driver.find_elements(By.CLASS_NAME,"column-six")
        fares = driver.find_elements(By.CLASS_NAME,"fare")
        seats_available = driver.find_elements(By.CLASS_NAME,"seat-left")
        bus_name = []
        bus_type = []
        departing = []
        duration = []
        reaching = []
        rating = []
        price = []
        availability = []

        list(bus_name.append(i.text) for i in names)
        list(bus_type.append(i.text) for i in types)
        list(departing.append(i.text) for i in depart_timings)
        list(duration.append(i.text) for i in travel_durations)
        list(reaching.append(i.text) for i in arrivals)
        list(rating.append(i.text[:3]) for i in star_ratings)
        for fare in fares:
            if (fare.text).isdigit():
                price.append(fare.text)
            else:
                price.append((fare.text).replace('INR','').strip())
        list(availability.append(i.text) for i in seats_available)
        time.sleep(3)
        #remove duplicates on the names 
        #print("range of bus_name for link:",range(len(bus_name)))
        #print("link:",link)
        for i in range(len(bus_name)):
            dict={'state_name':"Uttarpradesh(UPSRTC)",'route_name':up_route_names[count], 'route_link':link, 'bus_name':bus_name[i], 'bus_type':bus_type[i], 'departing':departing[i], 
                           'duration':duration[i], 'reaching':reaching[i], 'rating':rating[i], 'price':price[i], 'availability':availability[i]}
            df_links.append(dict)
    else:
         print("already seen")
    count = count +1

print("count =:",count)
for i in range(len(df_links)):
   print("value of i:",i)
   print("Total Routes on each links",df_links[i])

df1=pd.DataFrame(df_links)
df=pd.concat([df,df1],ignore_index=True)

df.to_csv('Uttarpradesh.csv', index=False)





